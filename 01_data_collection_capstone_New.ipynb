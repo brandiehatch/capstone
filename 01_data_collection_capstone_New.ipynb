{
  "cells": [
    {
      "cell_type": "markdown",
      "metadata": {
        "id": "view-in-github",
        "colab_type": "text"
      },
      "source": [
        "<a href=\"https://colab.research.google.com/github/brandiehatch/capstone/blob/main/01_data_collection_capstone_New.ipynb\" target=\"_parent\"><img src=\"https://colab.research.google.com/assets/colab-badge.svg\" alt=\"Open In Colab\"/></a>"
      ]
    },
    {
      "cell_type": "markdown",
      "metadata": {
        "id": "hDr8LSpEVKm8"
      },
      "source": [
        "# Census Data Collection\n",
        "\n",
        "https://pypi.org/project/census/ \n"
      ]
    },
    {
      "cell_type": "code",
      "execution_count": null,
      "metadata": {
        "id": "-zwdXdhhVKnI"
      },
      "outputs": [],
      "source": [
        "# pip install census\n",
        "# pip install us"
      ]
    },
    {
      "cell_type": "code",
      "execution_count": 1,
      "metadata": {
        "id": "usl8zo6mVKnL"
      },
      "outputs": [],
      "source": [
        "# from census import Census\n",
        "# from us import states\n",
        "import json\n",
        "import csv\n",
        "import requests\n",
        "import pandas as pd\n",
        "import numpy as np\n",
        "import matplotlib.pyplot as plt\n",
        "import seaborn as sns \n",
        "\n",
        "import os\n",
        "\n",
        "%matplotlib inline\n",
        "\n",
        "\n",
        "plt.style.use('fivethirtyeight')\n",
        "\n",
        "# No warnings\n",
        "import warnings \n",
        "warnings.simplefilter(\"ignore\")\n",
        "\n",
        "pd.options.display.max_columns=999"
      ]
    },
    {
      "cell_type": "code",
      "execution_count": 2,
      "metadata": {
        "id": "_QgrTOlmVKnN"
      },
      "outputs": [],
      "source": [
        " data = requests.get('https://api.census.gov/data/2019/acs/acs1/pums?get=AGEP,CIT,COW,ENG,ESR,FFSP,LANX,MAR,MULTG,NOC,OCCP,PINCP,POVPIP,RAC1P,RAC2P,RAC3P,RACAIAN,RACASN,RACBLK,RACNH,RACNUM,RACPI,RACSOR,RACWHT,RT,SCH,SCHG,SCHL,SCIENGP,SCIENGRLP,SEMP,SEX,SOCP,WAGP,WKEXREL,WKL,WRK&for=state&key=5c0093e6278fbed87e613713b22afcf5a24226eb')\n",
        "\n",
        "\n"
      ]
    },
    {
      "cell_type": "code",
      "source": [
        "# run in Google collab while continuing to EDA and such\n",
        "\n",
        "df = pd.DataFrame(data=data.json())\n",
        "df.head()"
      ],
      "metadata": {
        "colab": {
          "base_uri": "https://localhost:8080/",
          "height": 270
        },
        "id": "aEkUrpTwVUZO",
        "outputId": "61982fed-9f6a-4e9d-823c-5cbd54a60eb4"
      },
      "execution_count": 3,
      "outputs": [
        {
          "output_type": "execute_result",
          "data": {
            "text/plain": [
              "     0    1    2    3    4     5     6    7      8    9     10     11      12  \\\n",
              "0  AGEP  CIT  COW  ENG  ESR  FFSP  LANX  MAR  MULTG  NOC  OCCP  PINCP  POVPIP   \n",
              "1    35    1    1    0    6     0     2    1      0   -1  6250  63000      -1   \n",
              "2    25    1    0    0    6     0     2    5      0   -1     9      0      -1   \n",
              "3    21    5    2    0    1     0     2    5      0   -1  4740   2000      -1   \n",
              "4    49    1    1    0    6     0     2    3      0   -1   110      0      -1   \n",
              "\n",
              "      13     14     15       16      17      18     19      20     21      22  \\\n",
              "0  RAC1P  RAC2P  RAC3P  RACAIAN  RACASN  RACBLK  RACNH  RACNUM  RACPI  RACSOR   \n",
              "1      1      1      1        0       0       0      0       1      0       0   \n",
              "2      1      1      1        0       0       0      0       1      0       0   \n",
              "3      6     53     10        0       1       0      0       1      0       0   \n",
              "4      1      1      1        0       0       0      0       1      0       0   \n",
              "\n",
              "       23  24   25    26    27       28         29    30   31      32     33  \\\n",
              "0  RACWHT  RT  SCH  SCHG  SCHL  SCIENGP  SCIENGRLP  SEMP  SEX    SOCP   WAGP   \n",
              "1       1   P    1     0    17        0          0     0    1  472050  63000   \n",
              "2       1   P    1     0    12        0          0     0    1      -1      0   \n",
              "3       0   P    3    15    19        0          0     0    2  412021   2000   \n",
              "4       1   P    1     0    21        1          2     0    1  113021      0   \n",
              "\n",
              "        34   35   36     37  \n",
              "0  WKEXREL  WKL  WRK  state  \n",
              "1        0    1    0     18  \n",
              "2        0    3    0     48  \n",
              "3        0    1    0     18  \n",
              "4        0    2    0      4  "
            ],
            "text/html": [
              "\n",
              "  <div id=\"df-f5f14f99-57e6-40e2-b88f-f1e6f9f5ac90\">\n",
              "    <div class=\"colab-df-container\">\n",
              "      <div>\n",
              "<style scoped>\n",
              "    .dataframe tbody tr th:only-of-type {\n",
              "        vertical-align: middle;\n",
              "    }\n",
              "\n",
              "    .dataframe tbody tr th {\n",
              "        vertical-align: top;\n",
              "    }\n",
              "\n",
              "    .dataframe thead th {\n",
              "        text-align: right;\n",
              "    }\n",
              "</style>\n",
              "<table border=\"1\" class=\"dataframe\">\n",
              "  <thead>\n",
              "    <tr style=\"text-align: right;\">\n",
              "      <th></th>\n",
              "      <th>0</th>\n",
              "      <th>1</th>\n",
              "      <th>2</th>\n",
              "      <th>3</th>\n",
              "      <th>4</th>\n",
              "      <th>5</th>\n",
              "      <th>6</th>\n",
              "      <th>7</th>\n",
              "      <th>8</th>\n",
              "      <th>9</th>\n",
              "      <th>10</th>\n",
              "      <th>11</th>\n",
              "      <th>12</th>\n",
              "      <th>13</th>\n",
              "      <th>14</th>\n",
              "      <th>15</th>\n",
              "      <th>16</th>\n",
              "      <th>17</th>\n",
              "      <th>18</th>\n",
              "      <th>19</th>\n",
              "      <th>20</th>\n",
              "      <th>21</th>\n",
              "      <th>22</th>\n",
              "      <th>23</th>\n",
              "      <th>24</th>\n",
              "      <th>25</th>\n",
              "      <th>26</th>\n",
              "      <th>27</th>\n",
              "      <th>28</th>\n",
              "      <th>29</th>\n",
              "      <th>30</th>\n",
              "      <th>31</th>\n",
              "      <th>32</th>\n",
              "      <th>33</th>\n",
              "      <th>34</th>\n",
              "      <th>35</th>\n",
              "      <th>36</th>\n",
              "      <th>37</th>\n",
              "    </tr>\n",
              "  </thead>\n",
              "  <tbody>\n",
              "    <tr>\n",
              "      <th>0</th>\n",
              "      <td>AGEP</td>\n",
              "      <td>CIT</td>\n",
              "      <td>COW</td>\n",
              "      <td>ENG</td>\n",
              "      <td>ESR</td>\n",
              "      <td>FFSP</td>\n",
              "      <td>LANX</td>\n",
              "      <td>MAR</td>\n",
              "      <td>MULTG</td>\n",
              "      <td>NOC</td>\n",
              "      <td>OCCP</td>\n",
              "      <td>PINCP</td>\n",
              "      <td>POVPIP</td>\n",
              "      <td>RAC1P</td>\n",
              "      <td>RAC2P</td>\n",
              "      <td>RAC3P</td>\n",
              "      <td>RACAIAN</td>\n",
              "      <td>RACASN</td>\n",
              "      <td>RACBLK</td>\n",
              "      <td>RACNH</td>\n",
              "      <td>RACNUM</td>\n",
              "      <td>RACPI</td>\n",
              "      <td>RACSOR</td>\n",
              "      <td>RACWHT</td>\n",
              "      <td>RT</td>\n",
              "      <td>SCH</td>\n",
              "      <td>SCHG</td>\n",
              "      <td>SCHL</td>\n",
              "      <td>SCIENGP</td>\n",
              "      <td>SCIENGRLP</td>\n",
              "      <td>SEMP</td>\n",
              "      <td>SEX</td>\n",
              "      <td>SOCP</td>\n",
              "      <td>WAGP</td>\n",
              "      <td>WKEXREL</td>\n",
              "      <td>WKL</td>\n",
              "      <td>WRK</td>\n",
              "      <td>state</td>\n",
              "    </tr>\n",
              "    <tr>\n",
              "      <th>1</th>\n",
              "      <td>35</td>\n",
              "      <td>1</td>\n",
              "      <td>1</td>\n",
              "      <td>0</td>\n",
              "      <td>6</td>\n",
              "      <td>0</td>\n",
              "      <td>2</td>\n",
              "      <td>1</td>\n",
              "      <td>0</td>\n",
              "      <td>-1</td>\n",
              "      <td>6250</td>\n",
              "      <td>63000</td>\n",
              "      <td>-1</td>\n",
              "      <td>1</td>\n",
              "      <td>1</td>\n",
              "      <td>1</td>\n",
              "      <td>0</td>\n",
              "      <td>0</td>\n",
              "      <td>0</td>\n",
              "      <td>0</td>\n",
              "      <td>1</td>\n",
              "      <td>0</td>\n",
              "      <td>0</td>\n",
              "      <td>1</td>\n",
              "      <td>P</td>\n",
              "      <td>1</td>\n",
              "      <td>0</td>\n",
              "      <td>17</td>\n",
              "      <td>0</td>\n",
              "      <td>0</td>\n",
              "      <td>0</td>\n",
              "      <td>1</td>\n",
              "      <td>472050</td>\n",
              "      <td>63000</td>\n",
              "      <td>0</td>\n",
              "      <td>1</td>\n",
              "      <td>0</td>\n",
              "      <td>18</td>\n",
              "    </tr>\n",
              "    <tr>\n",
              "      <th>2</th>\n",
              "      <td>25</td>\n",
              "      <td>1</td>\n",
              "      <td>0</td>\n",
              "      <td>0</td>\n",
              "      <td>6</td>\n",
              "      <td>0</td>\n",
              "      <td>2</td>\n",
              "      <td>5</td>\n",
              "      <td>0</td>\n",
              "      <td>-1</td>\n",
              "      <td>9</td>\n",
              "      <td>0</td>\n",
              "      <td>-1</td>\n",
              "      <td>1</td>\n",
              "      <td>1</td>\n",
              "      <td>1</td>\n",
              "      <td>0</td>\n",
              "      <td>0</td>\n",
              "      <td>0</td>\n",
              "      <td>0</td>\n",
              "      <td>1</td>\n",
              "      <td>0</td>\n",
              "      <td>0</td>\n",
              "      <td>1</td>\n",
              "      <td>P</td>\n",
              "      <td>1</td>\n",
              "      <td>0</td>\n",
              "      <td>12</td>\n",
              "      <td>0</td>\n",
              "      <td>0</td>\n",
              "      <td>0</td>\n",
              "      <td>1</td>\n",
              "      <td>-1</td>\n",
              "      <td>0</td>\n",
              "      <td>0</td>\n",
              "      <td>3</td>\n",
              "      <td>0</td>\n",
              "      <td>48</td>\n",
              "    </tr>\n",
              "    <tr>\n",
              "      <th>3</th>\n",
              "      <td>21</td>\n",
              "      <td>5</td>\n",
              "      <td>2</td>\n",
              "      <td>0</td>\n",
              "      <td>1</td>\n",
              "      <td>0</td>\n",
              "      <td>2</td>\n",
              "      <td>5</td>\n",
              "      <td>0</td>\n",
              "      <td>-1</td>\n",
              "      <td>4740</td>\n",
              "      <td>2000</td>\n",
              "      <td>-1</td>\n",
              "      <td>6</td>\n",
              "      <td>53</td>\n",
              "      <td>10</td>\n",
              "      <td>0</td>\n",
              "      <td>1</td>\n",
              "      <td>0</td>\n",
              "      <td>0</td>\n",
              "      <td>1</td>\n",
              "      <td>0</td>\n",
              "      <td>0</td>\n",
              "      <td>0</td>\n",
              "      <td>P</td>\n",
              "      <td>3</td>\n",
              "      <td>15</td>\n",
              "      <td>19</td>\n",
              "      <td>0</td>\n",
              "      <td>0</td>\n",
              "      <td>0</td>\n",
              "      <td>2</td>\n",
              "      <td>412021</td>\n",
              "      <td>2000</td>\n",
              "      <td>0</td>\n",
              "      <td>1</td>\n",
              "      <td>0</td>\n",
              "      <td>18</td>\n",
              "    </tr>\n",
              "    <tr>\n",
              "      <th>4</th>\n",
              "      <td>49</td>\n",
              "      <td>1</td>\n",
              "      <td>1</td>\n",
              "      <td>0</td>\n",
              "      <td>6</td>\n",
              "      <td>0</td>\n",
              "      <td>2</td>\n",
              "      <td>3</td>\n",
              "      <td>0</td>\n",
              "      <td>-1</td>\n",
              "      <td>110</td>\n",
              "      <td>0</td>\n",
              "      <td>-1</td>\n",
              "      <td>1</td>\n",
              "      <td>1</td>\n",
              "      <td>1</td>\n",
              "      <td>0</td>\n",
              "      <td>0</td>\n",
              "      <td>0</td>\n",
              "      <td>0</td>\n",
              "      <td>1</td>\n",
              "      <td>0</td>\n",
              "      <td>0</td>\n",
              "      <td>1</td>\n",
              "      <td>P</td>\n",
              "      <td>1</td>\n",
              "      <td>0</td>\n",
              "      <td>21</td>\n",
              "      <td>1</td>\n",
              "      <td>2</td>\n",
              "      <td>0</td>\n",
              "      <td>1</td>\n",
              "      <td>113021</td>\n",
              "      <td>0</td>\n",
              "      <td>0</td>\n",
              "      <td>2</td>\n",
              "      <td>0</td>\n",
              "      <td>4</td>\n",
              "    </tr>\n",
              "  </tbody>\n",
              "</table>\n",
              "</div>\n",
              "      <button class=\"colab-df-convert\" onclick=\"convertToInteractive('df-f5f14f99-57e6-40e2-b88f-f1e6f9f5ac90')\"\n",
              "              title=\"Convert this dataframe to an interactive table.\"\n",
              "              style=\"display:none;\">\n",
              "        \n",
              "  <svg xmlns=\"http://www.w3.org/2000/svg\" height=\"24px\"viewBox=\"0 0 24 24\"\n",
              "       width=\"24px\">\n",
              "    <path d=\"M0 0h24v24H0V0z\" fill=\"none\"/>\n",
              "    <path d=\"M18.56 5.44l.94 2.06.94-2.06 2.06-.94-2.06-.94-.94-2.06-.94 2.06-2.06.94zm-11 1L8.5 8.5l.94-2.06 2.06-.94-2.06-.94L8.5 2.5l-.94 2.06-2.06.94zm10 10l.94 2.06.94-2.06 2.06-.94-2.06-.94-.94-2.06-.94 2.06-2.06.94z\"/><path d=\"M17.41 7.96l-1.37-1.37c-.4-.4-.92-.59-1.43-.59-.52 0-1.04.2-1.43.59L10.3 9.45l-7.72 7.72c-.78.78-.78 2.05 0 2.83L4 21.41c.39.39.9.59 1.41.59.51 0 1.02-.2 1.41-.59l7.78-7.78 2.81-2.81c.8-.78.8-2.07 0-2.86zM5.41 20L4 18.59l7.72-7.72 1.47 1.35L5.41 20z\"/>\n",
              "  </svg>\n",
              "      </button>\n",
              "      \n",
              "  <style>\n",
              "    .colab-df-container {\n",
              "      display:flex;\n",
              "      flex-wrap:wrap;\n",
              "      gap: 12px;\n",
              "    }\n",
              "\n",
              "    .colab-df-convert {\n",
              "      background-color: #E8F0FE;\n",
              "      border: none;\n",
              "      border-radius: 50%;\n",
              "      cursor: pointer;\n",
              "      display: none;\n",
              "      fill: #1967D2;\n",
              "      height: 32px;\n",
              "      padding: 0 0 0 0;\n",
              "      width: 32px;\n",
              "    }\n",
              "\n",
              "    .colab-df-convert:hover {\n",
              "      background-color: #E2EBFA;\n",
              "      box-shadow: 0px 1px 2px rgba(60, 64, 67, 0.3), 0px 1px 3px 1px rgba(60, 64, 67, 0.15);\n",
              "      fill: #174EA6;\n",
              "    }\n",
              "\n",
              "    [theme=dark] .colab-df-convert {\n",
              "      background-color: #3B4455;\n",
              "      fill: #D2E3FC;\n",
              "    }\n",
              "\n",
              "    [theme=dark] .colab-df-convert:hover {\n",
              "      background-color: #434B5C;\n",
              "      box-shadow: 0px 1px 3px 1px rgba(0, 0, 0, 0.15);\n",
              "      filter: drop-shadow(0px 1px 2px rgba(0, 0, 0, 0.3));\n",
              "      fill: #FFFFFF;\n",
              "    }\n",
              "  </style>\n",
              "\n",
              "      <script>\n",
              "        const buttonEl =\n",
              "          document.querySelector('#df-f5f14f99-57e6-40e2-b88f-f1e6f9f5ac90 button.colab-df-convert');\n",
              "        buttonEl.style.display =\n",
              "          google.colab.kernel.accessAllowed ? 'block' : 'none';\n",
              "\n",
              "        async function convertToInteractive(key) {\n",
              "          const element = document.querySelector('#df-f5f14f99-57e6-40e2-b88f-f1e6f9f5ac90');\n",
              "          const dataTable =\n",
              "            await google.colab.kernel.invokeFunction('convertToInteractive',\n",
              "                                                     [key], {});\n",
              "          if (!dataTable) return;\n",
              "\n",
              "          const docLinkHtml = 'Like what you see? Visit the ' +\n",
              "            '<a target=\"_blank\" href=https://colab.research.google.com/notebooks/data_table.ipynb>data table notebook</a>'\n",
              "            + ' to learn more about interactive tables.';\n",
              "          element.innerHTML = '';\n",
              "          dataTable['output_type'] = 'display_data';\n",
              "          await google.colab.output.renderOutput(dataTable, element);\n",
              "          const docLink = document.createElement('div');\n",
              "          docLink.innerHTML = docLinkHtml;\n",
              "          element.appendChild(docLink);\n",
              "        }\n",
              "      </script>\n",
              "    </div>\n",
              "  </div>\n",
              "  "
            ]
          },
          "metadata": {},
          "execution_count": 3
        }
      ]
    },
    {
      "cell_type": "code",
      "source": [
        "df.shape"
      ],
      "metadata": {
        "colab": {
          "base_uri": "https://localhost:8080/"
        },
        "id": "AX5ETY-LXAkW",
        "outputId": "1cd78ac5-9596-4d66-9f64-5109435748d1"
      },
      "execution_count": 4,
      "outputs": [
        {
          "output_type": "execute_result",
          "data": {
            "text/plain": [
              "(3239554, 38)"
            ]
          },
          "metadata": {},
          "execution_count": 4
        }
      ]
    },
    {
      "cell_type": "code",
      "source": [
        "df.to_csv('.C:\\\\Users\\\\hatch\\\\Desktop\\\\dsirfx-222\\\\capstone\\\\data.csv', index=False)"
      ],
      "metadata": {
        "id": "Kcu7L9NfXk3s"
      },
      "execution_count": 12,
      "outputs": []
    },
    {
      "cell_type": "markdown",
      "metadata": {
        "id": "0QLMOBnaVKna"
      },
      "source": [
        "save washington and keep playing\n",
        "\n",
        "\n",
        "in another notebook, start the other collections running"
      ]
    },
    {
      "cell_type": "code",
      "execution_count": null,
      "metadata": {
        "id": "I7aBrGvQVKnb"
      },
      "outputs": [],
      "source": [
        "# https://requests.readthedocs.io/en/latest/user/advanced/#body-content-workflow\n",
        "\n",
        "with requests.get('https://httpbin.org/get', stream=True) as r:\n",
        "    # Do things with the response here."
      ]
    },
    {
      "cell_type": "markdown",
      "metadata": {
        "id": "VEV85MY5VKnb"
      },
      "source": [
        ""
      ]
    },
    {
      "cell_type": "code",
      "execution_count": null,
      "metadata": {
        "id": "_4Y8o8SkVKnc",
        "outputId": "c5a846c0-4cf5-4eba-a8a3-1aadb6440247"
      },
      "outputs": [
        {
          "ename": "FileNotFoundError",
          "evalue": "[Errno 2] No such file or directory: 'data_wa.json'",
          "output_type": "error",
          "traceback": [
            "\u001b[1;31m---------------------------------------------------------------------------\u001b[0m",
            "\u001b[1;31mFileNotFoundError\u001b[0m                         Traceback (most recent call last)",
            "\u001b[1;32m~\\AppData\\Local\\Temp/ipykernel_4396/4242154061.py\u001b[0m in \u001b[0;36m<module>\u001b[1;34m\u001b[0m\n\u001b[1;32m----> 1\u001b[1;33m \u001b[0mf\u001b[0m \u001b[1;33m=\u001b[0m \u001b[0mopen\u001b[0m\u001b[1;33m(\u001b[0m\u001b[1;34m'data_wa.json'\u001b[0m\u001b[1;33m)\u001b[0m\u001b[1;33m\u001b[0m\u001b[1;33m\u001b[0m\u001b[0m\n\u001b[0m\u001b[0;32m      2\u001b[0m \u001b[1;33m\u001b[0m\u001b[0m\n\u001b[0;32m      3\u001b[0m \u001b[1;31m# returns JSON object as\u001b[0m\u001b[1;33m\u001b[0m\u001b[1;33m\u001b[0m\u001b[1;33m\u001b[0m\u001b[0m\n\u001b[0;32m      4\u001b[0m \u001b[1;31m# a dictionary\u001b[0m\u001b[1;33m\u001b[0m\u001b[1;33m\u001b[0m\u001b[1;33m\u001b[0m\u001b[0m\n\u001b[0;32m      5\u001b[0m \u001b[0mdata_wa2\u001b[0m \u001b[1;33m=\u001b[0m \u001b[0mjson\u001b[0m\u001b[1;33m.\u001b[0m\u001b[0mload\u001b[0m\u001b[1;33m(\u001b[0m\u001b[0mf\u001b[0m\u001b[1;33m)\u001b[0m\u001b[1;33m\u001b[0m\u001b[1;33m\u001b[0m\u001b[0m\n",
            "\u001b[1;31mFileNotFoundError\u001b[0m: [Errno 2] No such file or directory: 'data_wa.json'"
          ]
        }
      ],
      "source": [
        "f = open('data_wa.json')\n",
        "   \n",
        "# returns JSON object as \n",
        "# a dictionary\n",
        "data_wa2 = json.load(f)\n",
        "   \n",
        "\n",
        "\n"
      ]
    },
    {
      "cell_type": "code",
      "execution_count": null,
      "metadata": {
        "id": "fQ-8RiBLVKnc"
      },
      "outputs": [],
      "source": [
        ""
      ]
    },
    {
      "cell_type": "code",
      "execution_count": null,
      "metadata": {
        "id": "rcAhA0-zVKnd"
      },
      "outputs": [],
      "source": [
        "# using json library\n",
        "load_data = json.loads(data.text)"
      ]
    },
    {
      "cell_type": "code",
      "execution_count": null,
      "metadata": {
        "id": "-pdKh9Q9VKnd"
      },
      "outputs": [],
      "source": [
        "json_string = json.dumps(load_data)"
      ]
    },
    {
      "cell_type": "code",
      "execution_count": null,
      "metadata": {
        "id": "MTQvYjX-VKne"
      },
      "outputs": [],
      "source": [
        "json_file = open(\"data.json\", \"w\")"
      ]
    },
    {
      "cell_type": "code",
      "execution_count": null,
      "metadata": {
        "id": "7cZtiMB2VKne"
      },
      "outputs": [],
      "source": [
        "json_file.write(json_string)\n",
        "json_file.close()"
      ]
    },
    {
      "cell_type": "code",
      "execution_count": null,
      "metadata": {
        "id": "-t8Tm87QVKne"
      },
      "outputs": [],
      "source": [
        "f = open('data.json')\n",
        "   \n",
        "# returns JSON object as \n",
        "# a dictionary\n",
        "data = json.load(f)\n",
        "   \n"
      ]
    },
    {
      "cell_type": "code",
      "execution_count": null,
      "metadata": {
        "id": "94aD0MXOVKnf"
      },
      "outputs": [],
      "source": [
        "df = pd.read_json(data)"
      ]
    },
    {
      "cell_type": "code",
      "execution_count": null,
      "metadata": {
        "id": "BHjyjGStVKnf"
      },
      "outputs": [],
      "source": [
        "df.head()"
      ]
    },
    {
      "cell_type": "code",
      "execution_count": null,
      "metadata": {
        "id": "7ixuNg0XVKng"
      },
      "outputs": [],
      "source": [
        ""
      ]
    },
    {
      "cell_type": "code",
      "execution_count": null,
      "metadata": {
        "id": "GoJJIH11VKng"
      },
      "outputs": [],
      "source": [
        ""
      ]
    },
    {
      "cell_type": "code",
      "execution_count": null,
      "metadata": {
        "id": "Iu0Zyf5HVKng"
      },
      "outputs": [],
      "source": [
        "#original attempt"
      ]
    },
    {
      "cell_type": "code",
      "execution_count": null,
      "metadata": {
        "id": "pMZLgcw3VKng",
        "outputId": "dc518986-6382-425c-e544-d9f5c3839e1c"
      },
      "outputs": [
        {
          "name": "stdout",
          "output_type": "stream",
          "text": [
            "['./data/pums2017_1.json', './data/pums2017_2.json', './data/pums2017_3.json', './data/pums2017_4.json', './data/pums2017_5.json', './data/pums2017_6.json', './data/pums2017_new.json', './data/pums2018_1.json', './data/pums2018_2.json', './data/pums2018_3.json', './data/pums2018_4.json', './data/pums2018_5.json', './data/pums2018_6.json', './data/pums2018_7.json', './data/pums2019_1.json', './data/pums2019_2.json', './data/pums2019_3.json', './data/pums2019_4.json', './data/pums2019_5.json', './data/pums2019_6.json', './data/pums2019_7.json']\n"
          ]
        }
      ],
      "source": [
        "# read in data downloaded from: https://api.census.gov/data.html\n",
        "\n",
        "data = os.listdir('./data')\n",
        "\n",
        "pums_list = []\n",
        "for file in data:\n",
        "    if file.endswith('.json'):\n",
        "        pums_list.append(f'./data/{file}')\n",
        "print(pums_list)"
      ]
    },
    {
      "cell_type": "code",
      "execution_count": null,
      "metadata": {
        "id": "bBrlBArNVKnh",
        "outputId": "75da278a-e710-479c-e9b9-6db18a5ac19c"
      },
      "outputs": [
        {
          "data": {
            "text/plain": [
              "20"
            ]
          },
          "execution_count": 4,
          "metadata": {},
          "output_type": "execute_result"
        }
      ],
      "source": [
        "len(pums_list)"
      ]
    },
    {
      "cell_type": "code",
      "execution_count": null,
      "metadata": {
        "id": "IjmqBCMQVKnh",
        "outputId": "7d4c5dd8-b4e9-43e6-bd16-08f1ae5ddfa0"
      },
      "outputs": [
        {
          "data": {
            "text/html": [
              "<div>\n",
              "<style scoped>\n",
              "    .dataframe tbody tr th:only-of-type {\n",
              "        vertical-align: middle;\n",
              "    }\n",
              "\n",
              "    .dataframe tbody tr th {\n",
              "        vertical-align: top;\n",
              "    }\n",
              "\n",
              "    .dataframe thead th {\n",
              "        text-align: right;\n",
              "    }\n",
              "</style>\n",
              "<table border=\"1\" class=\"dataframe\">\n",
              "  <thead>\n",
              "    <tr style=\"text-align: right;\">\n",
              "      <th></th>\n",
              "      <th>0</th>\n",
              "      <th>1</th>\n",
              "      <th>2</th>\n",
              "      <th>3</th>\n",
              "      <th>4</th>\n",
              "      <th>5</th>\n",
              "    </tr>\n",
              "  </thead>\n",
              "  <tbody>\n",
              "    <tr>\n",
              "      <th>0</th>\n",
              "      <td>PWGTP</td>\n",
              "      <td>SCIENGRLP</td>\n",
              "      <td>SEMP</td>\n",
              "      <td>SEX</td>\n",
              "      <td>SOCP</td>\n",
              "      <td>state</td>\n",
              "    </tr>\n",
              "    <tr>\n",
              "      <th>1</th>\n",
              "      <td>55</td>\n",
              "      <td>0</td>\n",
              "      <td>0</td>\n",
              "      <td>2</td>\n",
              "      <td>434131</td>\n",
              "      <td>50</td>\n",
              "    </tr>\n",
              "    <tr>\n",
              "      <th>2</th>\n",
              "      <td>56</td>\n",
              "      <td>0</td>\n",
              "      <td>0</td>\n",
              "      <td>1</td>\n",
              "      <td>435071</td>\n",
              "      <td>50</td>\n",
              "    </tr>\n",
              "    <tr>\n",
              "      <th>3</th>\n",
              "      <td>48</td>\n",
              "      <td>0</td>\n",
              "      <td>-10001</td>\n",
              "      <td>1</td>\n",
              "      <td>-1</td>\n",
              "      <td>50</td>\n",
              "    </tr>\n",
              "    <tr>\n",
              "      <th>4</th>\n",
              "      <td>51</td>\n",
              "      <td>0</td>\n",
              "      <td>-10001</td>\n",
              "      <td>1</td>\n",
              "      <td>-1</td>\n",
              "      <td>50</td>\n",
              "    </tr>\n",
              "  </tbody>\n",
              "</table>\n",
              "</div>"
            ],
            "text/plain": [
              "       0          1       2    3       4      5\n",
              "0  PWGTP  SCIENGRLP    SEMP  SEX    SOCP  state\n",
              "1     55          0       0    2  434131     50\n",
              "2     56          0       0    1  435071     50\n",
              "3     48          0  -10001    1      -1     50\n",
              "4     51          0  -10001    1      -1     50"
            ]
          },
          "execution_count": 6,
          "metadata": {},
          "output_type": "execute_result"
        }
      ],
      "source": [
        "df1 = pd.read_json('./data/pums2017_1.json', orient='records')\n",
        "df1.head()"
      ]
    },
    {
      "cell_type": "code",
      "execution_count": null,
      "metadata": {
        "id": "LJEBUVmxVKnh"
      },
      "outputs": [],
      "source": [
        "df = pd.merge(map(pd.read_json, pums_list), ignore_index=True)"
      ]
    },
    {
      "cell_type": "code",
      "execution_count": null,
      "metadata": {
        "id": "1nAyqwCgVKni",
        "outputId": "bdfba2de-c84e-47bb-8365-546393d26c33"
      },
      "outputs": [
        {
          "data": {
            "text/html": [
              "<div>\n",
              "<style scoped>\n",
              "    .dataframe tbody tr th:only-of-type {\n",
              "        vertical-align: middle;\n",
              "    }\n",
              "\n",
              "    .dataframe tbody tr th {\n",
              "        vertical-align: top;\n",
              "    }\n",
              "\n",
              "    .dataframe thead th {\n",
              "        text-align: right;\n",
              "    }\n",
              "</style>\n",
              "<table border=\"1\" class=\"dataframe\">\n",
              "  <thead>\n",
              "    <tr style=\"text-align: right;\">\n",
              "      <th></th>\n",
              "      <th>0</th>\n",
              "      <th>1</th>\n",
              "      <th>2</th>\n",
              "      <th>3</th>\n",
              "      <th>4</th>\n",
              "      <th>5</th>\n",
              "      <th>6</th>\n",
              "      <th>7</th>\n",
              "      <th>8</th>\n",
              "      <th>9</th>\n",
              "      <th>10</th>\n",
              "      <th>11</th>\n",
              "      <th>12</th>\n",
              "    </tr>\n",
              "  </thead>\n",
              "  <tbody>\n",
              "    <tr>\n",
              "      <th>0</th>\n",
              "      <td>PWGTP</td>\n",
              "      <td>AGEP</td>\n",
              "      <td>CIT</td>\n",
              "      <td>COW</td>\n",
              "      <td>ENG</td>\n",
              "      <td>ESR</td>\n",
              "      <td>FFSP</td>\n",
              "      <td>LANX</td>\n",
              "      <td>MAR</td>\n",
              "      <td>MULTG</td>\n",
              "      <td>NOC</td>\n",
              "      <td>OCCP</td>\n",
              "      <td>state</td>\n",
              "    </tr>\n",
              "    <tr>\n",
              "      <th>1</th>\n",
              "      <td>55</td>\n",
              "      <td>34</td>\n",
              "      <td>1</td>\n",
              "      <td>1</td>\n",
              "      <td>0</td>\n",
              "      <td>1</td>\n",
              "      <td>0</td>\n",
              "      <td>2</td>\n",
              "      <td>1</td>\n",
              "      <td>1</td>\n",
              "      <td>2</td>\n",
              "      <td>5330</td>\n",
              "      <td>50</td>\n",
              "    </tr>\n",
              "    <tr>\n",
              "      <th>2</th>\n",
              "      <td>56</td>\n",
              "      <td>34</td>\n",
              "      <td>1</td>\n",
              "      <td>1</td>\n",
              "      <td>0</td>\n",
              "      <td>1</td>\n",
              "      <td>0</td>\n",
              "      <td>2</td>\n",
              "      <td>1</td>\n",
              "      <td>1</td>\n",
              "      <td>2</td>\n",
              "      <td>5610</td>\n",
              "      <td>50</td>\n",
              "    </tr>\n",
              "    <tr>\n",
              "      <th>3</th>\n",
              "      <td>48</td>\n",
              "      <td>10</td>\n",
              "      <td>1</td>\n",
              "      <td>0</td>\n",
              "      <td>0</td>\n",
              "      <td>0</td>\n",
              "      <td>0</td>\n",
              "      <td>2</td>\n",
              "      <td>5</td>\n",
              "      <td>1</td>\n",
              "      <td>2</td>\n",
              "      <td>9</td>\n",
              "      <td>50</td>\n",
              "    </tr>\n",
              "    <tr>\n",
              "      <th>4</th>\n",
              "      <td>51</td>\n",
              "      <td>5</td>\n",
              "      <td>1</td>\n",
              "      <td>0</td>\n",
              "      <td>0</td>\n",
              "      <td>0</td>\n",
              "      <td>0</td>\n",
              "      <td>2</td>\n",
              "      <td>5</td>\n",
              "      <td>1</td>\n",
              "      <td>2</td>\n",
              "      <td>9</td>\n",
              "      <td>50</td>\n",
              "    </tr>\n",
              "  </tbody>\n",
              "</table>\n",
              "</div>"
            ],
            "text/plain": [
              "      0     1    2    3    4    5     6     7    8      9    10    11     12\n",
              "0  PWGTP  AGEP  CIT  COW  ENG  ESR  FFSP  LANX  MAR  MULTG  NOC  OCCP  state\n",
              "1     55    34    1    1    0    1     0     2    1      1    2  5330     50\n",
              "2     56    34    1    1    0    1     0     2    1      1    2  5610     50\n",
              "3     48    10    1    0    0    0     0     2    5      1    2     9     50\n",
              "4     51     5    1    0    0    0     0     2    5      1    2     9     50"
            ]
          },
          "execution_count": 9,
          "metadata": {},
          "output_type": "execute_result"
        }
      ],
      "source": [
        "df.head()"
      ]
    },
    {
      "cell_type": "code",
      "execution_count": null,
      "metadata": {
        "id": "oscKMXdbVKni",
        "outputId": "cee64dbd-65b0-4d9c-d1e9-96f1aa608610"
      },
      "outputs": [
        {
          "data": {
            "text/plain": [
              "(64294405, 13)"
            ]
          },
          "execution_count": 13,
          "metadata": {},
          "output_type": "execute_result"
        }
      ],
      "source": [
        "df.shape"
      ]
    },
    {
      "cell_type": "code",
      "execution_count": null,
      "metadata": {
        "id": "5kVi146xVKni",
        "outputId": "5eaf8bad-a26d-4303-cc87-b3536b6bcdec"
      },
      "outputs": [
        {
          "data": {
            "text/plain": [
              "'c:\\\\Users\\\\hatch\\\\Desktop\\\\dsirfx-222\\\\capstone'"
            ]
          },
          "execution_count": 46,
          "metadata": {},
          "output_type": "execute_result"
        }
      ],
      "source": [
        "# work with James\n",
        "os.getcwd()"
      ]
    },
    {
      "cell_type": "code",
      "execution_count": null,
      "metadata": {
        "id": "3KPV2cyeVKni",
        "outputId": "df02f057-3448-433d-b446-69fd50ad4a86"
      },
      "outputs": [
        {
          "name": "stdout",
          "output_type": "stream",
          "text": [
            "['./data/pums2017_1.json', './data/pums2017_2.json', './data/pums2017_3.json', './data/pums2017_4.json', './data/pums2017_5.json', './data/pums2017_6.json']\n"
          ]
        }
      ],
      "source": [
        "data = os.listdir('./data')\n",
        "\n",
        "pums2017_list = []\n",
        "for file in data:\n",
        "    if file.endswith('.json') and '2017' in file:\n",
        "        pums2017_list.append(f'./data/{file}')\n",
        "print(pums2017_list)"
      ]
    },
    {
      "cell_type": "code",
      "execution_count": null,
      "metadata": {
        "id": "ZelqNWoXVKnj"
      },
      "outputs": [],
      "source": [
        "dfs = [pd.read_json(x, orient='records') for x in pums2017_list]"
      ]
    },
    {
      "cell_type": "code",
      "execution_count": null,
      "metadata": {
        "id": "A6MIzttSVKnj",
        "outputId": "20b4c2f9-4fb9-433c-dceb-7dff6445a893"
      },
      "outputs": [
        {
          "data": {
            "text/plain": [
              "6"
            ]
          },
          "execution_count": 49,
          "metadata": {},
          "output_type": "execute_result"
        }
      ],
      "source": [
        "len(dfs)"
      ]
    },
    {
      "cell_type": "code",
      "execution_count": null,
      "metadata": {
        "id": "OoucIIP2VKnj",
        "outputId": "0f919108-85bc-4656-e216-1534c95e4da7"
      },
      "outputs": [
        {
          "name": "stdout",
          "output_type": "stream",
          "text": [
            "(3190041, 13)\n",
            "(3190041, 7)\n",
            "(3190041, 7)\n",
            "(3190041, 10)\n",
            "(3190041, 6)\n",
            "(3190041, 6)\n"
          ]
        }
      ],
      "source": [
        "for df in dfs:\n",
        "    print(df.shape)"
      ]
    },
    {
      "cell_type": "code",
      "execution_count": null,
      "metadata": {
        "id": "96LiG9xXVKnj",
        "outputId": "4ee537e8-3cd3-466f-d401-4aa1724ac4c5"
      },
      "outputs": [
        {
          "data": {
            "text/html": [
              "<div>\n",
              "<style scoped>\n",
              "    .dataframe tbody tr th:only-of-type {\n",
              "        vertical-align: middle;\n",
              "    }\n",
              "\n",
              "    .dataframe tbody tr th {\n",
              "        vertical-align: top;\n",
              "    }\n",
              "\n",
              "    .dataframe thead th {\n",
              "        text-align: right;\n",
              "    }\n",
              "</style>\n",
              "<table border=\"1\" class=\"dataframe\">\n",
              "  <thead>\n",
              "    <tr style=\"text-align: right;\">\n",
              "      <th></th>\n",
              "      <th>0</th>\n",
              "      <th>1</th>\n",
              "      <th>2</th>\n",
              "      <th>3</th>\n",
              "      <th>4</th>\n",
              "      <th>5</th>\n",
              "      <th>6</th>\n",
              "      <th>7</th>\n",
              "      <th>8</th>\n",
              "      <th>9</th>\n",
              "      <th>10</th>\n",
              "      <th>11</th>\n",
              "      <th>12</th>\n",
              "    </tr>\n",
              "  </thead>\n",
              "  <tbody>\n",
              "    <tr>\n",
              "      <th>0</th>\n",
              "      <td>PWGTP</td>\n",
              "      <td>AGEP</td>\n",
              "      <td>CIT</td>\n",
              "      <td>COW</td>\n",
              "      <td>ENG</td>\n",
              "      <td>ESR</td>\n",
              "      <td>FFSP</td>\n",
              "      <td>LANX</td>\n",
              "      <td>MAR</td>\n",
              "      <td>MULTG</td>\n",
              "      <td>NOC</td>\n",
              "      <td>OCCP</td>\n",
              "      <td>state</td>\n",
              "    </tr>\n",
              "    <tr>\n",
              "      <th>1</th>\n",
              "      <td>55</td>\n",
              "      <td>34</td>\n",
              "      <td>1</td>\n",
              "      <td>1</td>\n",
              "      <td>0</td>\n",
              "      <td>1</td>\n",
              "      <td>0</td>\n",
              "      <td>2</td>\n",
              "      <td>1</td>\n",
              "      <td>1</td>\n",
              "      <td>2</td>\n",
              "      <td>5330</td>\n",
              "      <td>50</td>\n",
              "    </tr>\n",
              "    <tr>\n",
              "      <th>2</th>\n",
              "      <td>56</td>\n",
              "      <td>34</td>\n",
              "      <td>1</td>\n",
              "      <td>1</td>\n",
              "      <td>0</td>\n",
              "      <td>1</td>\n",
              "      <td>0</td>\n",
              "      <td>2</td>\n",
              "      <td>1</td>\n",
              "      <td>1</td>\n",
              "      <td>2</td>\n",
              "      <td>5610</td>\n",
              "      <td>50</td>\n",
              "    </tr>\n",
              "    <tr>\n",
              "      <th>3</th>\n",
              "      <td>48</td>\n",
              "      <td>10</td>\n",
              "      <td>1</td>\n",
              "      <td>0</td>\n",
              "      <td>0</td>\n",
              "      <td>0</td>\n",
              "      <td>0</td>\n",
              "      <td>2</td>\n",
              "      <td>5</td>\n",
              "      <td>1</td>\n",
              "      <td>2</td>\n",
              "      <td>9</td>\n",
              "      <td>50</td>\n",
              "    </tr>\n",
              "    <tr>\n",
              "      <th>4</th>\n",
              "      <td>51</td>\n",
              "      <td>5</td>\n",
              "      <td>1</td>\n",
              "      <td>0</td>\n",
              "      <td>0</td>\n",
              "      <td>0</td>\n",
              "      <td>0</td>\n",
              "      <td>2</td>\n",
              "      <td>5</td>\n",
              "      <td>1</td>\n",
              "      <td>2</td>\n",
              "      <td>9</td>\n",
              "      <td>50</td>\n",
              "    </tr>\n",
              "  </tbody>\n",
              "</table>\n",
              "</div>"
            ],
            "text/plain": [
              "      0     1    2    3    4    5     6     7    8      9    10    11     12\n",
              "0  PWGTP  AGEP  CIT  COW  ENG  ESR  FFSP  LANX  MAR  MULTG  NOC  OCCP  state\n",
              "1     55    34    1    1    0    1     0     2    1      1    2  5330     50\n",
              "2     56    34    1    1    0    1     0     2    1      1    2  5610     50\n",
              "3     48    10    1    0    0    0     0     2    5      1    2     9     50\n",
              "4     51     5    1    0    0    0     0     2    5      1    2     9     50"
            ]
          },
          "execution_count": 51,
          "metadata": {},
          "output_type": "execute_result"
        }
      ],
      "source": [
        "test_df = dfs[0]\n",
        "test_df.head()"
      ]
    },
    {
      "cell_type": "code",
      "execution_count": null,
      "metadata": {
        "id": "yAaQ9zLEVKnk"
      },
      "outputs": [],
      "source": [
        "# begin to pull up first row to column headers\n",
        "test_df.columns = test_df.loc[0]"
      ]
    },
    {
      "cell_type": "code",
      "execution_count": null,
      "metadata": {
        "id": "a0FmauMBVKnk",
        "outputId": "d367052b-891e-41a8-ab19-f352ec32cb8e"
      },
      "outputs": [
        {
          "data": {
            "text/html": [
              "<div>\n",
              "<style scoped>\n",
              "    .dataframe tbody tr th:only-of-type {\n",
              "        vertical-align: middle;\n",
              "    }\n",
              "\n",
              "    .dataframe tbody tr th {\n",
              "        vertical-align: top;\n",
              "    }\n",
              "\n",
              "    .dataframe thead th {\n",
              "        text-align: right;\n",
              "    }\n",
              "</style>\n",
              "<table border=\"1\" class=\"dataframe\">\n",
              "  <thead>\n",
              "    <tr style=\"text-align: right;\">\n",
              "      <th></th>\n",
              "      <th>PWGTP</th>\n",
              "      <th>AGEP</th>\n",
              "      <th>CIT</th>\n",
              "      <th>COW</th>\n",
              "      <th>ENG</th>\n",
              "      <th>ESR</th>\n",
              "      <th>FFSP</th>\n",
              "      <th>LANX</th>\n",
              "      <th>MAR</th>\n",
              "      <th>MULTG</th>\n",
              "      <th>NOC</th>\n",
              "      <th>OCCP</th>\n",
              "      <th>state</th>\n",
              "    </tr>\n",
              "  </thead>\n",
              "  <tbody>\n",
              "    <tr>\n",
              "      <th>0</th>\n",
              "      <td>PWGTP</td>\n",
              "      <td>AGEP</td>\n",
              "      <td>CIT</td>\n",
              "      <td>COW</td>\n",
              "      <td>ENG</td>\n",
              "      <td>ESR</td>\n",
              "      <td>FFSP</td>\n",
              "      <td>LANX</td>\n",
              "      <td>MAR</td>\n",
              "      <td>MULTG</td>\n",
              "      <td>NOC</td>\n",
              "      <td>OCCP</td>\n",
              "      <td>state</td>\n",
              "    </tr>\n",
              "    <tr>\n",
              "      <th>1</th>\n",
              "      <td>55</td>\n",
              "      <td>34</td>\n",
              "      <td>1</td>\n",
              "      <td>1</td>\n",
              "      <td>0</td>\n",
              "      <td>1</td>\n",
              "      <td>0</td>\n",
              "      <td>2</td>\n",
              "      <td>1</td>\n",
              "      <td>1</td>\n",
              "      <td>2</td>\n",
              "      <td>5330</td>\n",
              "      <td>50</td>\n",
              "    </tr>\n",
              "    <tr>\n",
              "      <th>2</th>\n",
              "      <td>56</td>\n",
              "      <td>34</td>\n",
              "      <td>1</td>\n",
              "      <td>1</td>\n",
              "      <td>0</td>\n",
              "      <td>1</td>\n",
              "      <td>0</td>\n",
              "      <td>2</td>\n",
              "      <td>1</td>\n",
              "      <td>1</td>\n",
              "      <td>2</td>\n",
              "      <td>5610</td>\n",
              "      <td>50</td>\n",
              "    </tr>\n",
              "    <tr>\n",
              "      <th>3</th>\n",
              "      <td>48</td>\n",
              "      <td>10</td>\n",
              "      <td>1</td>\n",
              "      <td>0</td>\n",
              "      <td>0</td>\n",
              "      <td>0</td>\n",
              "      <td>0</td>\n",
              "      <td>2</td>\n",
              "      <td>5</td>\n",
              "      <td>1</td>\n",
              "      <td>2</td>\n",
              "      <td>9</td>\n",
              "      <td>50</td>\n",
              "    </tr>\n",
              "    <tr>\n",
              "      <th>4</th>\n",
              "      <td>51</td>\n",
              "      <td>5</td>\n",
              "      <td>1</td>\n",
              "      <td>0</td>\n",
              "      <td>0</td>\n",
              "      <td>0</td>\n",
              "      <td>0</td>\n",
              "      <td>2</td>\n",
              "      <td>5</td>\n",
              "      <td>1</td>\n",
              "      <td>2</td>\n",
              "      <td>9</td>\n",
              "      <td>50</td>\n",
              "    </tr>\n",
              "  </tbody>\n",
              "</table>\n",
              "</div>"
            ],
            "text/plain": [
              "0  PWGTP  AGEP  CIT  COW  ENG  ESR  FFSP  LANX  MAR  MULTG  NOC  OCCP  state\n",
              "0  PWGTP  AGEP  CIT  COW  ENG  ESR  FFSP  LANX  MAR  MULTG  NOC  OCCP  state\n",
              "1     55    34    1    1    0    1     0     2    1      1    2  5330     50\n",
              "2     56    34    1    1    0    1     0     2    1      1    2  5610     50\n",
              "3     48    10    1    0    0    0     0     2    5      1    2     9     50\n",
              "4     51     5    1    0    0    0     0     2    5      1    2     9     50"
            ]
          },
          "execution_count": 53,
          "metadata": {},
          "output_type": "execute_result"
        }
      ],
      "source": [
        "test_df.head()"
      ]
    },
    {
      "cell_type": "code",
      "execution_count": null,
      "metadata": {
        "id": "TxaVkfd7VKnk",
        "outputId": "2f850196-ff62-4e23-fb25-e82f5dc3ba5c"
      },
      "outputs": [
        {
          "data": {
            "text/html": [
              "<div>\n",
              "<style scoped>\n",
              "    .dataframe tbody tr th:only-of-type {\n",
              "        vertical-align: middle;\n",
              "    }\n",
              "\n",
              "    .dataframe tbody tr th {\n",
              "        vertical-align: top;\n",
              "    }\n",
              "\n",
              "    .dataframe thead th {\n",
              "        text-align: right;\n",
              "    }\n",
              "</style>\n",
              "<table border=\"1\" class=\"dataframe\">\n",
              "  <thead>\n",
              "    <tr style=\"text-align: right;\">\n",
              "      <th></th>\n",
              "      <th>PWGTP</th>\n",
              "      <th>AGEP</th>\n",
              "      <th>CIT</th>\n",
              "      <th>COW</th>\n",
              "      <th>ENG</th>\n",
              "      <th>ESR</th>\n",
              "      <th>FFSP</th>\n",
              "      <th>LANX</th>\n",
              "      <th>MAR</th>\n",
              "      <th>MULTG</th>\n",
              "      <th>NOC</th>\n",
              "      <th>OCCP</th>\n",
              "      <th>state</th>\n",
              "    </tr>\n",
              "  </thead>\n",
              "  <tbody>\n",
              "    <tr>\n",
              "      <th>1</th>\n",
              "      <td>55</td>\n",
              "      <td>34</td>\n",
              "      <td>1</td>\n",
              "      <td>1</td>\n",
              "      <td>0</td>\n",
              "      <td>1</td>\n",
              "      <td>0</td>\n",
              "      <td>2</td>\n",
              "      <td>1</td>\n",
              "      <td>1</td>\n",
              "      <td>2</td>\n",
              "      <td>5330</td>\n",
              "      <td>50</td>\n",
              "    </tr>\n",
              "    <tr>\n",
              "      <th>2</th>\n",
              "      <td>56</td>\n",
              "      <td>34</td>\n",
              "      <td>1</td>\n",
              "      <td>1</td>\n",
              "      <td>0</td>\n",
              "      <td>1</td>\n",
              "      <td>0</td>\n",
              "      <td>2</td>\n",
              "      <td>1</td>\n",
              "      <td>1</td>\n",
              "      <td>2</td>\n",
              "      <td>5610</td>\n",
              "      <td>50</td>\n",
              "    </tr>\n",
              "    <tr>\n",
              "      <th>3</th>\n",
              "      <td>48</td>\n",
              "      <td>10</td>\n",
              "      <td>1</td>\n",
              "      <td>0</td>\n",
              "      <td>0</td>\n",
              "      <td>0</td>\n",
              "      <td>0</td>\n",
              "      <td>2</td>\n",
              "      <td>5</td>\n",
              "      <td>1</td>\n",
              "      <td>2</td>\n",
              "      <td>9</td>\n",
              "      <td>50</td>\n",
              "    </tr>\n",
              "    <tr>\n",
              "      <th>4</th>\n",
              "      <td>51</td>\n",
              "      <td>5</td>\n",
              "      <td>1</td>\n",
              "      <td>0</td>\n",
              "      <td>0</td>\n",
              "      <td>0</td>\n",
              "      <td>0</td>\n",
              "      <td>2</td>\n",
              "      <td>5</td>\n",
              "      <td>1</td>\n",
              "      <td>2</td>\n",
              "      <td>9</td>\n",
              "      <td>50</td>\n",
              "    </tr>\n",
              "    <tr>\n",
              "      <th>5</th>\n",
              "      <td>53</td>\n",
              "      <td>64</td>\n",
              "      <td>1</td>\n",
              "      <td>4</td>\n",
              "      <td>0</td>\n",
              "      <td>6</td>\n",
              "      <td>0</td>\n",
              "      <td>2</td>\n",
              "      <td>1</td>\n",
              "      <td>1</td>\n",
              "      <td>0</td>\n",
              "      <td>3255</td>\n",
              "      <td>47</td>\n",
              "    </tr>\n",
              "    <tr>\n",
              "      <th>...</th>\n",
              "      <td>...</td>\n",
              "      <td>...</td>\n",
              "      <td>...</td>\n",
              "      <td>...</td>\n",
              "      <td>...</td>\n",
              "      <td>...</td>\n",
              "      <td>...</td>\n",
              "      <td>...</td>\n",
              "      <td>...</td>\n",
              "      <td>...</td>\n",
              "      <td>...</td>\n",
              "      <td>...</td>\n",
              "      <td>...</td>\n",
              "    </tr>\n",
              "    <tr>\n",
              "      <th>3190036</th>\n",
              "      <td>8</td>\n",
              "      <td>22</td>\n",
              "      <td>1</td>\n",
              "      <td>1</td>\n",
              "      <td>0</td>\n",
              "      <td>1</td>\n",
              "      <td>0</td>\n",
              "      <td>2</td>\n",
              "      <td>5</td>\n",
              "      <td>0</td>\n",
              "      <td>-1</td>\n",
              "      <td>940</td>\n",
              "      <td>25</td>\n",
              "    </tr>\n",
              "    <tr>\n",
              "      <th>3190037</th>\n",
              "      <td>81</td>\n",
              "      <td>36</td>\n",
              "      <td>1</td>\n",
              "      <td>1</td>\n",
              "      <td>1</td>\n",
              "      <td>6</td>\n",
              "      <td>0</td>\n",
              "      <td>1</td>\n",
              "      <td>5</td>\n",
              "      <td>0</td>\n",
              "      <td>-1</td>\n",
              "      <td>6260</td>\n",
              "      <td>39</td>\n",
              "    </tr>\n",
              "    <tr>\n",
              "      <th>3190038</th>\n",
              "      <td>52</td>\n",
              "      <td>18</td>\n",
              "      <td>1</td>\n",
              "      <td>0</td>\n",
              "      <td>0</td>\n",
              "      <td>6</td>\n",
              "      <td>0</td>\n",
              "      <td>2</td>\n",
              "      <td>5</td>\n",
              "      <td>0</td>\n",
              "      <td>-1</td>\n",
              "      <td>9</td>\n",
              "      <td>37</td>\n",
              "    </tr>\n",
              "    <tr>\n",
              "      <th>3190039</th>\n",
              "      <td>103</td>\n",
              "      <td>46</td>\n",
              "      <td>1</td>\n",
              "      <td>0</td>\n",
              "      <td>0</td>\n",
              "      <td>6</td>\n",
              "      <td>0</td>\n",
              "      <td>2</td>\n",
              "      <td>5</td>\n",
              "      <td>0</td>\n",
              "      <td>-1</td>\n",
              "      <td>9</td>\n",
              "      <td>36</td>\n",
              "    </tr>\n",
              "    <tr>\n",
              "      <th>3190040</th>\n",
              "      <td>44</td>\n",
              "      <td>47</td>\n",
              "      <td>1</td>\n",
              "      <td>0</td>\n",
              "      <td>0</td>\n",
              "      <td>6</td>\n",
              "      <td>0</td>\n",
              "      <td>2</td>\n",
              "      <td>2</td>\n",
              "      <td>0</td>\n",
              "      <td>-1</td>\n",
              "      <td>9</td>\n",
              "      <td>48</td>\n",
              "    </tr>\n",
              "  </tbody>\n",
              "</table>\n",
              "<p>3190040 rows × 13 columns</p>\n",
              "</div>"
            ],
            "text/plain": [
              "0       PWGTP AGEP CIT COW ENG ESR FFSP LANX MAR MULTG NOC  OCCP state\n",
              "1          55   34   1   1   0   1    0    2   1     1   2  5330    50\n",
              "2          56   34   1   1   0   1    0    2   1     1   2  5610    50\n",
              "3          48   10   1   0   0   0    0    2   5     1   2     9    50\n",
              "4          51    5   1   0   0   0    0    2   5     1   2     9    50\n",
              "5          53   64   1   4   0   6    0    2   1     1   0  3255    47\n",
              "...       ...  ...  ..  ..  ..  ..  ...  ...  ..   ...  ..   ...   ...\n",
              "3190036     8   22   1   1   0   1    0    2   5     0  -1   940    25\n",
              "3190037    81   36   1   1   1   6    0    1   5     0  -1  6260    39\n",
              "3190038    52   18   1   0   0   6    0    2   5     0  -1     9    37\n",
              "3190039   103   46   1   0   0   6    0    2   5     0  -1     9    36\n",
              "3190040    44   47   1   0   0   6    0    2   2     0  -1     9    48\n",
              "\n",
              "[3190040 rows x 13 columns]"
            ]
          },
          "execution_count": 54,
          "metadata": {},
          "output_type": "execute_result"
        }
      ],
      "source": [
        "test_df.drop(0)"
      ]
    },
    {
      "cell_type": "code",
      "execution_count": null,
      "metadata": {
        "id": "62aWy9nxVKnk"
      },
      "outputs": [],
      "source": [
        "for df in dfs:\n",
        "    df.columns = df.loc[0]\n",
        "    df.drop(0, inplace=True)"
      ]
    },
    {
      "cell_type": "code",
      "execution_count": null,
      "metadata": {
        "id": "kOAvzeYCVKnl",
        "outputId": "4bbfa738-fec6-4552-a328-8586e91ca238"
      },
      "outputs": [
        {
          "data": {
            "text/html": [
              "<div>\n",
              "<style scoped>\n",
              "    .dataframe tbody tr th:only-of-type {\n",
              "        vertical-align: middle;\n",
              "    }\n",
              "\n",
              "    .dataframe tbody tr th {\n",
              "        vertical-align: top;\n",
              "    }\n",
              "\n",
              "    .dataframe thead th {\n",
              "        text-align: right;\n",
              "    }\n",
              "</style>\n",
              "<table border=\"1\" class=\"dataframe\">\n",
              "  <thead>\n",
              "    <tr style=\"text-align: right;\">\n",
              "      <th></th>\n",
              "      <th>PWGTP</th>\n",
              "      <th>WAGP</th>\n",
              "      <th>WKEXREL</th>\n",
              "      <th>WKL</th>\n",
              "      <th>WRK</th>\n",
              "      <th>state</th>\n",
              "    </tr>\n",
              "  </thead>\n",
              "  <tbody>\n",
              "    <tr>\n",
              "      <th>1</th>\n",
              "      <td>55</td>\n",
              "      <td>30000</td>\n",
              "      <td>1</td>\n",
              "      <td>1</td>\n",
              "      <td>1</td>\n",
              "      <td>50</td>\n",
              "    </tr>\n",
              "    <tr>\n",
              "      <th>2</th>\n",
              "      <td>56</td>\n",
              "      <td>35000</td>\n",
              "      <td>1</td>\n",
              "      <td>1</td>\n",
              "      <td>1</td>\n",
              "      <td>50</td>\n",
              "    </tr>\n",
              "    <tr>\n",
              "      <th>3</th>\n",
              "      <td>48</td>\n",
              "      <td>-1</td>\n",
              "      <td>1</td>\n",
              "      <td>0</td>\n",
              "      <td>0</td>\n",
              "      <td>50</td>\n",
              "    </tr>\n",
              "    <tr>\n",
              "      <th>4</th>\n",
              "      <td>51</td>\n",
              "      <td>-1</td>\n",
              "      <td>1</td>\n",
              "      <td>0</td>\n",
              "      <td>0</td>\n",
              "      <td>50</td>\n",
              "    </tr>\n",
              "    <tr>\n",
              "      <th>5</th>\n",
              "      <td>53</td>\n",
              "      <td>0</td>\n",
              "      <td>7</td>\n",
              "      <td>2</td>\n",
              "      <td>2</td>\n",
              "      <td>47</td>\n",
              "    </tr>\n",
              "  </tbody>\n",
              "</table>\n",
              "</div>"
            ],
            "text/plain": [
              "0 PWGTP   WAGP WKEXREL WKL WRK state\n",
              "1    55  30000       1   1   1    50\n",
              "2    56  35000       1   1   1    50\n",
              "3    48     -1       1   0   0    50\n",
              "4    51     -1       1   0   0    50\n",
              "5    53      0       7   2   2    47"
            ]
          },
          "execution_count": 56,
          "metadata": {},
          "output_type": "execute_result"
        }
      ],
      "source": [
        "df.head()"
      ]
    },
    {
      "cell_type": "code",
      "execution_count": null,
      "metadata": {
        "id": "7MxIlmv5VKnl",
        "outputId": "07a3264b-e67b-402a-a981-257aed3fb94a"
      },
      "outputs": [
        {
          "name": "stdout",
          "output_type": "stream",
          "text": [
            "{'PWGTP', 'state'}\n"
          ]
        }
      ],
      "source": [
        "# create set to pull out only the columns that are common; first and then add too it\n",
        "\n",
        "common_cols = set(dfs[0].columns)\n",
        "\n",
        "for df in dfs[1:]:\n",
        "    set(df.columns)\n",
        "    common_cols = common_cols.intersection(set(df.columns))     # similar to +=1 but for this situation\n",
        "print(common_cols) "
      ]
    },
    {
      "cell_type": "code",
      "execution_count": null,
      "metadata": {
        "id": "lGBX-9c9VKnl",
        "outputId": "76e4cc73-6da0-4244-d74c-92444e7e1fbe"
      },
      "outputs": [
        {
          "name": "stdout",
          "output_type": "stream",
          "text": [
            "True\n",
            "True\n",
            "True\n",
            "False\n",
            "True\n"
          ]
        }
      ],
      "source": [
        "start_col = dfs[0]['state']\n",
        "\n",
        "for df in dfs[1:]:\n",
        "    print(start_col.equals(df['state']))"
      ]
    },
    {
      "cell_type": "code",
      "execution_count": null,
      "metadata": {
        "id": "rkvTkNvEVKnl",
        "outputId": "cd36635d-c553-49ee-e518-39f78ca61390"
      },
      "outputs": [
        {
          "data": {
            "text/html": [
              "<div>\n",
              "<style scoped>\n",
              "    .dataframe tbody tr th:only-of-type {\n",
              "        vertical-align: middle;\n",
              "    }\n",
              "\n",
              "    .dataframe tbody tr th {\n",
              "        vertical-align: top;\n",
              "    }\n",
              "\n",
              "    .dataframe thead th {\n",
              "        text-align: right;\n",
              "    }\n",
              "</style>\n",
              "<table border=\"1\" class=\"dataframe\">\n",
              "  <thead>\n",
              "    <tr style=\"text-align: right;\">\n",
              "      <th></th>\n",
              "      <th>PWGTP</th>\n",
              "      <th>AGEP</th>\n",
              "      <th>CIT</th>\n",
              "      <th>COW</th>\n",
              "      <th>ENG</th>\n",
              "      <th>ESR</th>\n",
              "      <th>FFSP</th>\n",
              "      <th>LANX</th>\n",
              "      <th>MAR</th>\n",
              "      <th>MULTG</th>\n",
              "      <th>NOC</th>\n",
              "      <th>OCCP</th>\n",
              "      <th>state</th>\n",
              "    </tr>\n",
              "  </thead>\n",
              "  <tbody>\n",
              "    <tr>\n",
              "      <th>1</th>\n",
              "      <td>55</td>\n",
              "      <td>34</td>\n",
              "      <td>1</td>\n",
              "      <td>1</td>\n",
              "      <td>0</td>\n",
              "      <td>1</td>\n",
              "      <td>0</td>\n",
              "      <td>2</td>\n",
              "      <td>1</td>\n",
              "      <td>1</td>\n",
              "      <td>2</td>\n",
              "      <td>5330</td>\n",
              "      <td>50</td>\n",
              "    </tr>\n",
              "    <tr>\n",
              "      <th>2</th>\n",
              "      <td>56</td>\n",
              "      <td>34</td>\n",
              "      <td>1</td>\n",
              "      <td>1</td>\n",
              "      <td>0</td>\n",
              "      <td>1</td>\n",
              "      <td>0</td>\n",
              "      <td>2</td>\n",
              "      <td>1</td>\n",
              "      <td>1</td>\n",
              "      <td>2</td>\n",
              "      <td>5610</td>\n",
              "      <td>50</td>\n",
              "    </tr>\n",
              "    <tr>\n",
              "      <th>3</th>\n",
              "      <td>48</td>\n",
              "      <td>10</td>\n",
              "      <td>1</td>\n",
              "      <td>0</td>\n",
              "      <td>0</td>\n",
              "      <td>0</td>\n",
              "      <td>0</td>\n",
              "      <td>2</td>\n",
              "      <td>5</td>\n",
              "      <td>1</td>\n",
              "      <td>2</td>\n",
              "      <td>9</td>\n",
              "      <td>50</td>\n",
              "    </tr>\n",
              "    <tr>\n",
              "      <th>4</th>\n",
              "      <td>51</td>\n",
              "      <td>5</td>\n",
              "      <td>1</td>\n",
              "      <td>0</td>\n",
              "      <td>0</td>\n",
              "      <td>0</td>\n",
              "      <td>0</td>\n",
              "      <td>2</td>\n",
              "      <td>5</td>\n",
              "      <td>1</td>\n",
              "      <td>2</td>\n",
              "      <td>9</td>\n",
              "      <td>50</td>\n",
              "    </tr>\n",
              "    <tr>\n",
              "      <th>5</th>\n",
              "      <td>53</td>\n",
              "      <td>64</td>\n",
              "      <td>1</td>\n",
              "      <td>4</td>\n",
              "      <td>0</td>\n",
              "      <td>6</td>\n",
              "      <td>0</td>\n",
              "      <td>2</td>\n",
              "      <td>1</td>\n",
              "      <td>1</td>\n",
              "      <td>0</td>\n",
              "      <td>3255</td>\n",
              "      <td>47</td>\n",
              "    </tr>\n",
              "  </tbody>\n",
              "</table>\n",
              "</div>"
            ],
            "text/plain": [
              "0 PWGTP AGEP CIT COW ENG ESR FFSP LANX MAR MULTG NOC  OCCP state\n",
              "1    55   34   1   1   0   1    0    2   1     1   2  5330    50\n",
              "2    56   34   1   1   0   1    0    2   1     1   2  5610    50\n",
              "3    48   10   1   0   0   0    0    2   5     1   2     9    50\n",
              "4    51    5   1   0   0   0    0    2   5     1   2     9    50\n",
              "5    53   64   1   4   0   6    0    2   1     1   0  3255    47"
            ]
          },
          "execution_count": 59,
          "metadata": {},
          "output_type": "execute_result"
        }
      ],
      "source": [
        "dfs[0].head()"
      ]
    },
    {
      "cell_type": "code",
      "execution_count": null,
      "metadata": {
        "id": "9jzvWcpGVKnm",
        "outputId": "48ef3ce7-dcc7-42de-f4f9-5c04a0e3312e"
      },
      "outputs": [
        {
          "data": {
            "text/html": [
              "<div>\n",
              "<style scoped>\n",
              "    .dataframe tbody tr th:only-of-type {\n",
              "        vertical-align: middle;\n",
              "    }\n",
              "\n",
              "    .dataframe tbody tr th {\n",
              "        vertical-align: top;\n",
              "    }\n",
              "\n",
              "    .dataframe thead th {\n",
              "        text-align: right;\n",
              "    }\n",
              "</style>\n",
              "<table border=\"1\" class=\"dataframe\">\n",
              "  <thead>\n",
              "    <tr style=\"text-align: right;\">\n",
              "      <th></th>\n",
              "      <th>PWGTP</th>\n",
              "      <th>SCIENGRLP</th>\n",
              "      <th>SEMP</th>\n",
              "      <th>SEX</th>\n",
              "      <th>SOCP</th>\n",
              "      <th>state</th>\n",
              "    </tr>\n",
              "  </thead>\n",
              "  <tbody>\n",
              "    <tr>\n",
              "      <th>1</th>\n",
              "      <td>55</td>\n",
              "      <td>0</td>\n",
              "      <td>0</td>\n",
              "      <td>2</td>\n",
              "      <td>434131</td>\n",
              "      <td>50</td>\n",
              "    </tr>\n",
              "    <tr>\n",
              "      <th>2</th>\n",
              "      <td>56</td>\n",
              "      <td>0</td>\n",
              "      <td>0</td>\n",
              "      <td>1</td>\n",
              "      <td>435071</td>\n",
              "      <td>50</td>\n",
              "    </tr>\n",
              "    <tr>\n",
              "      <th>3</th>\n",
              "      <td>48</td>\n",
              "      <td>0</td>\n",
              "      <td>-10001</td>\n",
              "      <td>1</td>\n",
              "      <td>-1</td>\n",
              "      <td>50</td>\n",
              "    </tr>\n",
              "    <tr>\n",
              "      <th>4</th>\n",
              "      <td>51</td>\n",
              "      <td>0</td>\n",
              "      <td>-10001</td>\n",
              "      <td>1</td>\n",
              "      <td>-1</td>\n",
              "      <td>50</td>\n",
              "    </tr>\n",
              "    <tr>\n",
              "      <th>5</th>\n",
              "      <td>53</td>\n",
              "      <td>1</td>\n",
              "      <td>0</td>\n",
              "      <td>2</td>\n",
              "      <td>291141</td>\n",
              "      <td>47</td>\n",
              "    </tr>\n",
              "  </tbody>\n",
              "</table>\n",
              "</div>"
            ],
            "text/plain": [
              "0 PWGTP SCIENGRLP    SEMP SEX    SOCP state\n",
              "1    55         0       0   2  434131    50\n",
              "2    56         0       0   1  435071    50\n",
              "3    48         0  -10001   1      -1    50\n",
              "4    51         0  -10001   1      -1    50\n",
              "5    53         1       0   2  291141    47"
            ]
          },
          "execution_count": 62,
          "metadata": {},
          "output_type": "execute_result"
        }
      ],
      "source": [
        "dfs[4].head()"
      ]
    },
    {
      "cell_type": "code",
      "execution_count": null,
      "metadata": {
        "id": "wWKegusgVKnm",
        "outputId": "1d53f25a-0f4a-428b-f4b2-c08d706b14b7"
      },
      "outputs": [
        {
          "data": {
            "text/html": [
              "<div>\n",
              "<style scoped>\n",
              "    .dataframe tbody tr th:only-of-type {\n",
              "        vertical-align: middle;\n",
              "    }\n",
              "\n",
              "    .dataframe tbody tr th {\n",
              "        vertical-align: top;\n",
              "    }\n",
              "\n",
              "    .dataframe thead th {\n",
              "        text-align: right;\n",
              "    }\n",
              "</style>\n",
              "<table border=\"1\" class=\"dataframe\">\n",
              "  <thead>\n",
              "    <tr style=\"text-align: right;\">\n",
              "      <th></th>\n",
              "      <th>PWGTP</th>\n",
              "      <th>AGEP</th>\n",
              "      <th>CIT</th>\n",
              "      <th>COW</th>\n",
              "      <th>ENG</th>\n",
              "      <th>ESR</th>\n",
              "      <th>FFSP</th>\n",
              "      <th>LANX</th>\n",
              "      <th>MAR</th>\n",
              "      <th>MULTG</th>\n",
              "      <th>NOC</th>\n",
              "      <th>OCCP</th>\n",
              "      <th>state</th>\n",
              "    </tr>\n",
              "  </thead>\n",
              "  <tbody>\n",
              "    <tr>\n",
              "      <th>1063660</th>\n",
              "      <td>31</td>\n",
              "      <td>44</td>\n",
              "      <td>1</td>\n",
              "      <td>1</td>\n",
              "      <td>0</td>\n",
              "      <td>1</td>\n",
              "      <td>0</td>\n",
              "      <td>2</td>\n",
              "      <td>1</td>\n",
              "      <td>1</td>\n",
              "      <td>2</td>\n",
              "      <td>3640</td>\n",
              "      <td>19</td>\n",
              "    </tr>\n",
              "    <tr>\n",
              "      <th>1063661</th>\n",
              "      <td>30</td>\n",
              "      <td>48</td>\n",
              "      <td>1</td>\n",
              "      <td>1</td>\n",
              "      <td>0</td>\n",
              "      <td>1</td>\n",
              "      <td>0</td>\n",
              "      <td>2</td>\n",
              "      <td>1</td>\n",
              "      <td>1</td>\n",
              "      <td>2</td>\n",
              "      <td>7315</td>\n",
              "      <td>19</td>\n",
              "    </tr>\n",
              "    <tr>\n",
              "      <th>1063662</th>\n",
              "      <td>93</td>\n",
              "      <td>18</td>\n",
              "      <td>1</td>\n",
              "      <td>1</td>\n",
              "      <td>0</td>\n",
              "      <td>1</td>\n",
              "      <td>0</td>\n",
              "      <td>2</td>\n",
              "      <td>5</td>\n",
              "      <td>1</td>\n",
              "      <td>2</td>\n",
              "      <td>6440</td>\n",
              "      <td>19</td>\n",
              "    </tr>\n",
              "    <tr>\n",
              "      <th>1063663</th>\n",
              "      <td>31</td>\n",
              "      <td>16</td>\n",
              "      <td>1</td>\n",
              "      <td>1</td>\n",
              "      <td>0</td>\n",
              "      <td>1</td>\n",
              "      <td>0</td>\n",
              "      <td>2</td>\n",
              "      <td>5</td>\n",
              "      <td>1</td>\n",
              "      <td>2</td>\n",
              "      <td>7260</td>\n",
              "      <td>19</td>\n",
              "    </tr>\n",
              "    <tr>\n",
              "      <th>1063664</th>\n",
              "      <td>28</td>\n",
              "      <td>11</td>\n",
              "      <td>1</td>\n",
              "      <td>0</td>\n",
              "      <td>0</td>\n",
              "      <td>0</td>\n",
              "      <td>0</td>\n",
              "      <td>2</td>\n",
              "      <td>5</td>\n",
              "      <td>1</td>\n",
              "      <td>2</td>\n",
              "      <td>9</td>\n",
              "      <td>19</td>\n",
              "    </tr>\n",
              "    <tr>\n",
              "      <th>...</th>\n",
              "      <td>...</td>\n",
              "      <td>...</td>\n",
              "      <td>...</td>\n",
              "      <td>...</td>\n",
              "      <td>...</td>\n",
              "      <td>...</td>\n",
              "      <td>...</td>\n",
              "      <td>...</td>\n",
              "      <td>...</td>\n",
              "      <td>...</td>\n",
              "      <td>...</td>\n",
              "      <td>...</td>\n",
              "      <td>...</td>\n",
              "    </tr>\n",
              "    <tr>\n",
              "      <th>3190036</th>\n",
              "      <td>8</td>\n",
              "      <td>22</td>\n",
              "      <td>1</td>\n",
              "      <td>1</td>\n",
              "      <td>0</td>\n",
              "      <td>1</td>\n",
              "      <td>0</td>\n",
              "      <td>2</td>\n",
              "      <td>5</td>\n",
              "      <td>0</td>\n",
              "      <td>-1</td>\n",
              "      <td>940</td>\n",
              "      <td>25</td>\n",
              "    </tr>\n",
              "    <tr>\n",
              "      <th>3190037</th>\n",
              "      <td>81</td>\n",
              "      <td>36</td>\n",
              "      <td>1</td>\n",
              "      <td>1</td>\n",
              "      <td>1</td>\n",
              "      <td>6</td>\n",
              "      <td>0</td>\n",
              "      <td>1</td>\n",
              "      <td>5</td>\n",
              "      <td>0</td>\n",
              "      <td>-1</td>\n",
              "      <td>6260</td>\n",
              "      <td>39</td>\n",
              "    </tr>\n",
              "    <tr>\n",
              "      <th>3190038</th>\n",
              "      <td>52</td>\n",
              "      <td>18</td>\n",
              "      <td>1</td>\n",
              "      <td>0</td>\n",
              "      <td>0</td>\n",
              "      <td>6</td>\n",
              "      <td>0</td>\n",
              "      <td>2</td>\n",
              "      <td>5</td>\n",
              "      <td>0</td>\n",
              "      <td>-1</td>\n",
              "      <td>9</td>\n",
              "      <td>37</td>\n",
              "    </tr>\n",
              "    <tr>\n",
              "      <th>3190039</th>\n",
              "      <td>103</td>\n",
              "      <td>46</td>\n",
              "      <td>1</td>\n",
              "      <td>0</td>\n",
              "      <td>0</td>\n",
              "      <td>6</td>\n",
              "      <td>0</td>\n",
              "      <td>2</td>\n",
              "      <td>5</td>\n",
              "      <td>0</td>\n",
              "      <td>-1</td>\n",
              "      <td>9</td>\n",
              "      <td>36</td>\n",
              "    </tr>\n",
              "    <tr>\n",
              "      <th>3190040</th>\n",
              "      <td>44</td>\n",
              "      <td>47</td>\n",
              "      <td>1</td>\n",
              "      <td>0</td>\n",
              "      <td>0</td>\n",
              "      <td>6</td>\n",
              "      <td>0</td>\n",
              "      <td>2</td>\n",
              "      <td>2</td>\n",
              "      <td>0</td>\n",
              "      <td>-1</td>\n",
              "      <td>9</td>\n",
              "      <td>48</td>\n",
              "    </tr>\n",
              "  </tbody>\n",
              "</table>\n",
              "<p>2033162 rows × 13 columns</p>\n",
              "</div>"
            ],
            "text/plain": [
              "0       PWGTP AGEP CIT COW ENG ESR FFSP LANX MAR MULTG NOC  OCCP state\n",
              "1063660    31   44   1   1   0   1    0    2   1     1   2  3640    19\n",
              "1063661    30   48   1   1   0   1    0    2   1     1   2  7315    19\n",
              "1063662    93   18   1   1   0   1    0    2   5     1   2  6440    19\n",
              "1063663    31   16   1   1   0   1    0    2   5     1   2  7260    19\n",
              "1063664    28   11   1   0   0   0    0    2   5     1   2     9    19\n",
              "...       ...  ...  ..  ..  ..  ..  ...  ...  ..   ...  ..   ...   ...\n",
              "3190036     8   22   1   1   0   1    0    2   5     0  -1   940    25\n",
              "3190037    81   36   1   1   1   6    0    1   5     0  -1  6260    39\n",
              "3190038    52   18   1   0   0   6    0    2   5     0  -1     9    37\n",
              "3190039   103   46   1   0   0   6    0    2   5     0  -1     9    36\n",
              "3190040    44   47   1   0   0   6    0    2   2     0  -1     9    48\n",
              "\n",
              "[2033162 rows x 13 columns]"
            ]
          },
          "execution_count": 64,
          "metadata": {},
          "output_type": "execute_result"
        }
      ],
      "source": [
        "a = dfs[0]\n",
        "b = dfs[4]\n",
        "\n",
        "mask = a['state'] != b['state']\n",
        "a[mask]"
      ]
    },
    {
      "cell_type": "code",
      "execution_count": null,
      "metadata": {
        "id": "jzlC4GyTVKnm",
        "outputId": "4b58d4a7-1e5a-49c6-ad98-33ca6d4015c6"
      },
      "outputs": [
        {
          "data": {
            "text/html": [
              "<div>\n",
              "<style scoped>\n",
              "    .dataframe tbody tr th:only-of-type {\n",
              "        vertical-align: middle;\n",
              "    }\n",
              "\n",
              "    .dataframe tbody tr th {\n",
              "        vertical-align: top;\n",
              "    }\n",
              "\n",
              "    .dataframe thead th {\n",
              "        text-align: right;\n",
              "    }\n",
              "</style>\n",
              "<table border=\"1\" class=\"dataframe\">\n",
              "  <thead>\n",
              "    <tr style=\"text-align: right;\">\n",
              "      <th></th>\n",
              "      <th>PWGTP</th>\n",
              "      <th>SCIENGRLP</th>\n",
              "      <th>SEMP</th>\n",
              "      <th>SEX</th>\n",
              "      <th>SOCP</th>\n",
              "      <th>state</th>\n",
              "    </tr>\n",
              "  </thead>\n",
              "  <tbody>\n",
              "    <tr>\n",
              "      <th>1063660</th>\n",
              "      <td>54</td>\n",
              "      <td>2</td>\n",
              "      <td>0</td>\n",
              "      <td>1</td>\n",
              "      <td>119XXX</td>\n",
              "      <td>9</td>\n",
              "    </tr>\n",
              "    <tr>\n",
              "      <th>1063661</th>\n",
              "      <td>79</td>\n",
              "      <td>0</td>\n",
              "      <td>0</td>\n",
              "      <td>1</td>\n",
              "      <td>537062</td>\n",
              "      <td>21</td>\n",
              "    </tr>\n",
              "    <tr>\n",
              "      <th>1063662</th>\n",
              "      <td>107</td>\n",
              "      <td>0</td>\n",
              "      <td>0</td>\n",
              "      <td>2</td>\n",
              "      <td>352021</td>\n",
              "      <td>12</td>\n",
              "    </tr>\n",
              "    <tr>\n",
              "      <th>1063663</th>\n",
              "      <td>106</td>\n",
              "      <td>0</td>\n",
              "      <td>-10001</td>\n",
              "      <td>1</td>\n",
              "      <td>-1</td>\n",
              "      <td>12</td>\n",
              "    </tr>\n",
              "    <tr>\n",
              "      <th>1063664</th>\n",
              "      <td>105</td>\n",
              "      <td>0</td>\n",
              "      <td>-10001</td>\n",
              "      <td>1</td>\n",
              "      <td>-1</td>\n",
              "      <td>12</td>\n",
              "    </tr>\n",
              "    <tr>\n",
              "      <th>...</th>\n",
              "      <td>...</td>\n",
              "      <td>...</td>\n",
              "      <td>...</td>\n",
              "      <td>...</td>\n",
              "      <td>...</td>\n",
              "      <td>...</td>\n",
              "    </tr>\n",
              "    <tr>\n",
              "      <th>3190036</th>\n",
              "      <td>45</td>\n",
              "      <td>0</td>\n",
              "      <td>0</td>\n",
              "      <td>1</td>\n",
              "      <td>47207X</td>\n",
              "      <td>22</td>\n",
              "    </tr>\n",
              "    <tr>\n",
              "      <th>3190037</th>\n",
              "      <td>123</td>\n",
              "      <td>0</td>\n",
              "      <td>0</td>\n",
              "      <td>1</td>\n",
              "      <td>-1</td>\n",
              "      <td>23</td>\n",
              "    </tr>\n",
              "    <tr>\n",
              "      <th>3190038</th>\n",
              "      <td>12</td>\n",
              "      <td>2</td>\n",
              "      <td>0</td>\n",
              "      <td>2</td>\n",
              "      <td>-1</td>\n",
              "      <td>55</td>\n",
              "    </tr>\n",
              "    <tr>\n",
              "      <th>3190039</th>\n",
              "      <td>67</td>\n",
              "      <td>0</td>\n",
              "      <td>0</td>\n",
              "      <td>1</td>\n",
              "      <td>-1</td>\n",
              "      <td>37</td>\n",
              "    </tr>\n",
              "    <tr>\n",
              "      <th>3190040</th>\n",
              "      <td>50</td>\n",
              "      <td>0</td>\n",
              "      <td>0</td>\n",
              "      <td>2</td>\n",
              "      <td>412010</td>\n",
              "      <td>51</td>\n",
              "    </tr>\n",
              "  </tbody>\n",
              "</table>\n",
              "<p>2033162 rows × 6 columns</p>\n",
              "</div>"
            ],
            "text/plain": [
              "0       PWGTP SCIENGRLP    SEMP SEX    SOCP state\n",
              "1063660    54         2       0   1  119XXX     9\n",
              "1063661    79         0       0   1  537062    21\n",
              "1063662   107         0       0   2  352021    12\n",
              "1063663   106         0  -10001   1      -1    12\n",
              "1063664   105         0  -10001   1      -1    12\n",
              "...       ...       ...     ...  ..     ...   ...\n",
              "3190036    45         0       0   1  47207X    22\n",
              "3190037   123         0       0   1      -1    23\n",
              "3190038    12         2       0   2      -1    55\n",
              "3190039    67         0       0   1      -1    37\n",
              "3190040    50         0       0   2  412010    51\n",
              "\n",
              "[2033162 rows x 6 columns]"
            ]
          },
          "execution_count": 65,
          "metadata": {},
          "output_type": "execute_result"
        }
      ],
      "source": [
        "b[mask]"
      ]
    },
    {
      "cell_type": "code",
      "execution_count": null,
      "metadata": {
        "id": "Ylo8MkpkVKnm"
      },
      "outputs": [],
      "source": [
        ""
      ]
    },
    {
      "cell_type": "code",
      "execution_count": null,
      "metadata": {
        "id": "mYZ_qvwZVKnn",
        "outputId": "bd0ad319-0852-4879-c970-60c53b31ac13"
      },
      "outputs": [
        {
          "data": {
            "text/plain": [
              "1246"
            ]
          },
          "execution_count": 69,
          "metadata": {},
          "output_type": "execute_result"
        }
      ],
      "source": [
        "b['PWGTP'].nunique()"
      ]
    },
    {
      "cell_type": "code",
      "execution_count": null,
      "metadata": {
        "id": "-Its8AsVVKnn",
        "outputId": "743b956b-0a98-4024-ee40-212357afb760"
      },
      "outputs": [
        {
          "data": {
            "text/plain": [
              "False"
            ]
          },
          "execution_count": 66,
          "metadata": {},
          "output_type": "execute_result"
        }
      ],
      "source": [
        "a['state'].equals(b['state'])"
      ]
    },
    {
      "cell_type": "code",
      "execution_count": null,
      "metadata": {
        "id": "_tSydX1uVKnn"
      },
      "outputs": [],
      "source": [
        "# add PWGTP and state together into a column to use as an identifier, that will let me merge on that column\n",
        "# assumption is that all of the rows are the same in each column, except Sex grouping\n",
        "\n",
        "# How many rows will that leave me with\n"
      ]
    },
    {
      "cell_type": "code",
      "execution_count": null,
      "metadata": {
        "id": "Uh5GnPwvVKnn",
        "outputId": "29aef3ce-1c84-462c-b6da-b06d52d06127"
      },
      "outputs": [
        {
          "data": {
            "text/html": [
              "<div>\n",
              "<style scoped>\n",
              "    .dataframe tbody tr th:only-of-type {\n",
              "        vertical-align: middle;\n",
              "    }\n",
              "\n",
              "    .dataframe tbody tr th {\n",
              "        vertical-align: top;\n",
              "    }\n",
              "\n",
              "    .dataframe thead th {\n",
              "        text-align: right;\n",
              "    }\n",
              "</style>\n",
              "<table border=\"1\" class=\"dataframe\">\n",
              "  <thead>\n",
              "    <tr style=\"text-align: right;\">\n",
              "      <th>1</th>\n",
              "      <th>55</th>\n",
              "      <th>30000</th>\n",
              "      <th>1</th>\n",
              "      <th>1</th>\n",
              "      <th>1</th>\n",
              "      <th>50</th>\n",
              "    </tr>\n",
              "  </thead>\n",
              "  <tbody>\n",
              "    <tr>\n",
              "      <th>2</th>\n",
              "      <td>56</td>\n",
              "      <td>35000</td>\n",
              "      <td>1</td>\n",
              "      <td>1</td>\n",
              "      <td>1</td>\n",
              "      <td>50</td>\n",
              "    </tr>\n",
              "    <tr>\n",
              "      <th>3</th>\n",
              "      <td>48</td>\n",
              "      <td>-1</td>\n",
              "      <td>1</td>\n",
              "      <td>0</td>\n",
              "      <td>0</td>\n",
              "      <td>50</td>\n",
              "    </tr>\n",
              "    <tr>\n",
              "      <th>4</th>\n",
              "      <td>51</td>\n",
              "      <td>-1</td>\n",
              "      <td>1</td>\n",
              "      <td>0</td>\n",
              "      <td>0</td>\n",
              "      <td>50</td>\n",
              "    </tr>\n",
              "    <tr>\n",
              "      <th>5</th>\n",
              "      <td>53</td>\n",
              "      <td>0</td>\n",
              "      <td>7</td>\n",
              "      <td>2</td>\n",
              "      <td>2</td>\n",
              "      <td>47</td>\n",
              "    </tr>\n",
              "    <tr>\n",
              "      <th>6</th>\n",
              "      <td>49</td>\n",
              "      <td>425000</td>\n",
              "      <td>7</td>\n",
              "      <td>1</td>\n",
              "      <td>1</td>\n",
              "      <td>47</td>\n",
              "    </tr>\n",
              "  </tbody>\n",
              "</table>\n",
              "</div>"
            ],
            "text/plain": [
              "1  55   30000  1  1  1  50\n",
              "2  56   35000  1  1  1  50\n",
              "3  48      -1  1  0  0  50\n",
              "4  51      -1  1  0  0  50\n",
              "5  53       0  7  2  2  47\n",
              "6  49  425000  7  1  1  47"
            ]
          },
          "execution_count": 67,
          "metadata": {},
          "output_type": "execute_result"
        }
      ],
      "source": [
        "df.columns = df.iloc[0]\n",
        "df = df[1:]\n",
        "df.head()"
      ]
    },
    {
      "cell_type": "code",
      "execution_count": null,
      "metadata": {
        "id": "nRksPqcJVKnn"
      },
      "outputs": [],
      "source": [
        ""
      ]
    },
    {
      "cell_type": "code",
      "execution_count": null,
      "metadata": {
        "id": "nw6z3BoJVKno"
      },
      "outputs": [],
      "source": [
        ""
      ]
    },
    {
      "cell_type": "code",
      "execution_count": null,
      "metadata": {
        "id": "3wmXpto-VKno"
      },
      "outputs": [],
      "source": [
        ""
      ]
    },
    {
      "cell_type": "code",
      "execution_count": null,
      "metadata": {
        "id": "uVRJuWR-VKno",
        "outputId": "082edcdd-6b37-4a99-b82a-2c85778198af"
      },
      "outputs": [
        {
          "data": {
            "text/plain": [
              "0"
            ]
          },
          "execution_count": 10,
          "metadata": {},
          "output_type": "execute_result"
        }
      ],
      "source": [
        "# beginning of initial EDA - not ready yet\n",
        "df_2017.isnull().sum().sum()"
      ]
    },
    {
      "cell_type": "code",
      "execution_count": null,
      "metadata": {
        "id": "GUGI_PWbVKno",
        "outputId": "697aa8dd-183b-4ad6-9f46-c372961f8a02"
      },
      "outputs": [
        {
          "name": "stdout",
          "output_type": "stream",
          "text": [
            "<class 'pandas.core.frame.DataFrame'>\n",
            "RangeIndex: 3190041 entries, 0 to 3190040\n",
            "Data columns (total 7 columns):\n",
            " #   Column  Dtype \n",
            "---  ------  ----- \n",
            " 0   0       object\n",
            " 1   1       object\n",
            " 2   2       object\n",
            " 3   3       object\n",
            " 4   4       object\n",
            " 5   5       object\n",
            " 6   6       object\n",
            "dtypes: object(7)\n",
            "memory usage: 170.4+ MB\n"
          ]
        }
      ],
      "source": [
        "df_2017.info()"
      ]
    },
    {
      "cell_type": "code",
      "execution_count": null,
      "metadata": {
        "id": "YZoMemVvVKno",
        "outputId": "912d854d-848b-4afa-8990-c3456469ddc0"
      },
      "outputs": [
        {
          "data": {
            "text/plain": [
              "(6607535, 10)"
            ]
          },
          "execution_count": 8,
          "metadata": {},
          "output_type": "execute_result"
        }
      ],
      "source": [
        "df.shape"
      ]
    },
    {
      "cell_type": "code",
      "execution_count": null,
      "metadata": {
        "id": "oa0Ps9DZVKno",
        "outputId": "abaa8bc8-290c-48f0-c666-0a6fdce4b1c6"
      },
      "outputs": [
        {
          "data": {
            "text/html": [
              "<div>\n",
              "<style scoped>\n",
              "    .dataframe tbody tr th:only-of-type {\n",
              "        vertical-align: middle;\n",
              "    }\n",
              "\n",
              "    .dataframe tbody tr th {\n",
              "        vertical-align: top;\n",
              "    }\n",
              "\n",
              "    .dataframe thead th {\n",
              "        text-align: right;\n",
              "    }\n",
              "</style>\n",
              "<table border=\"1\" class=\"dataframe\">\n",
              "  <thead>\n",
              "    <tr style=\"text-align: right;\">\n",
              "      <th></th>\n",
              "      <th>PWGTP</th>\n",
              "      <th>MAR</th>\n",
              "      <th>SCH</th>\n",
              "      <th>SEX</th>\n",
              "      <th>ESR</th>\n",
              "      <th>CIT</th>\n",
              "      <th>COW</th>\n",
              "      <th>SCHL</th>\n",
              "      <th>AGEP</th>\n",
              "      <th>ST</th>\n",
              "    </tr>\n",
              "  </thead>\n",
              "  <tbody>\n",
              "    <tr>\n",
              "      <th>count</th>\n",
              "      <td>6607535</td>\n",
              "      <td>6607535</td>\n",
              "      <td>6607535</td>\n",
              "      <td>6607535</td>\n",
              "      <td>6607535</td>\n",
              "      <td>6607535</td>\n",
              "      <td>6607535</td>\n",
              "      <td>6607535</td>\n",
              "      <td>6607535</td>\n",
              "      <td>6607535</td>\n",
              "    </tr>\n",
              "    <tr>\n",
              "      <th>unique</th>\n",
              "      <td>658</td>\n",
              "      <td>5</td>\n",
              "      <td>4</td>\n",
              "      <td>2</td>\n",
              "      <td>7</td>\n",
              "      <td>5</td>\n",
              "      <td>10</td>\n",
              "      <td>25</td>\n",
              "      <td>96</td>\n",
              "      <td>21</td>\n",
              "    </tr>\n",
              "    <tr>\n",
              "      <th>top</th>\n",
              "      <td>12</td>\n",
              "      <td>1</td>\n",
              "      <td>1</td>\n",
              "      <td>2</td>\n",
              "      <td>1</td>\n",
              "      <td>1</td>\n",
              "      <td>0</td>\n",
              "      <td>16</td>\n",
              "      <td>60</td>\n",
              "      <td>6</td>\n",
              "    </tr>\n",
              "    <tr>\n",
              "      <th>freq</th>\n",
              "      <td>341655</td>\n",
              "      <td>2821833</td>\n",
              "      <td>4931140</td>\n",
              "      <td>3368123</td>\n",
              "      <td>2989627</td>\n",
              "      <td>5546294</td>\n",
              "      <td>2691936</td>\n",
              "      <td>1194683</td>\n",
              "      <td>100281</td>\n",
              "      <td>1799774</td>\n",
              "    </tr>\n",
              "  </tbody>\n",
              "</table>\n",
              "</div>"
            ],
            "text/plain": [
              "0         PWGTP      MAR      SCH      SEX      ESR      CIT      COW  \\\n",
              "count   6607535  6607535  6607535  6607535  6607535  6607535  6607535   \n",
              "unique      658        5        4        2        7        5       10   \n",
              "top          12        1        1        2        1        1        0   \n",
              "freq     341655  2821833  4931140  3368123  2989627  5546294  2691936   \n",
              "\n",
              "0          SCHL     AGEP       ST  \n",
              "count   6607535  6607535  6607535  \n",
              "unique       25       96       21  \n",
              "top          16       60        6  \n",
              "freq    1194683   100281  1799774  "
            ]
          },
          "execution_count": 9,
          "metadata": {},
          "output_type": "execute_result"
        }
      ],
      "source": [
        "df.describe()"
      ]
    },
    {
      "cell_type": "code",
      "execution_count": null,
      "metadata": {
        "id": "a-jxB8MUVKnp",
        "outputId": "84d0b7fd-2b34-4903-f3c5-71eb076bc443"
      },
      "outputs": [
        {
          "name": "stdout",
          "output_type": "stream",
          "text": [
            "0\n",
            "PWGTP    int32\n",
            "MAR      int32\n",
            "SCH      int32\n",
            "SEX      int32\n",
            "ESR      int32\n",
            "CIT      int32\n",
            "COW      int32\n",
            "SCHL     int32\n",
            "AGEP     int32\n",
            "ST       int32\n",
            "dtype: object\n"
          ]
        }
      ],
      "source": [
        "df = df.astype(int)\n",
        "print(df.dtypes)"
      ]
    },
    {
      "cell_type": "code",
      "execution_count": null,
      "metadata": {
        "id": "MD4VbToZVKnp",
        "outputId": "cf0087c4-9fa2-4fde-a2ba-f839afbf16ef"
      },
      "outputs": [
        {
          "data": {
            "text/html": [
              "<div>\n",
              "<style scoped>\n",
              "    .dataframe tbody tr th:only-of-type {\n",
              "        vertical-align: middle;\n",
              "    }\n",
              "\n",
              "    .dataframe tbody tr th {\n",
              "        vertical-align: top;\n",
              "    }\n",
              "\n",
              "    .dataframe thead th {\n",
              "        text-align: right;\n",
              "    }\n",
              "</style>\n",
              "<table border=\"1\" class=\"dataframe\">\n",
              "  <thead>\n",
              "    <tr style=\"text-align: right;\">\n",
              "      <th></th>\n",
              "      <th>count</th>\n",
              "      <th>mean</th>\n",
              "      <th>std</th>\n",
              "      <th>min</th>\n",
              "      <th>25%</th>\n",
              "      <th>50%</th>\n",
              "      <th>75%</th>\n",
              "      <th>max</th>\n",
              "    </tr>\n",
              "    <tr>\n",
              "      <th>0</th>\n",
              "      <th></th>\n",
              "      <th></th>\n",
              "      <th></th>\n",
              "      <th></th>\n",
              "      <th></th>\n",
              "      <th></th>\n",
              "      <th></th>\n",
              "      <th></th>\n",
              "    </tr>\n",
              "  </thead>\n",
              "  <tbody>\n",
              "    <tr>\n",
              "      <th>PWGTP</th>\n",
              "      <td>6607535.0</td>\n",
              "      <td>21.403737</td>\n",
              "      <td>21.402890</td>\n",
              "      <td>1.0</td>\n",
              "      <td>10.0</td>\n",
              "      <td>16.0</td>\n",
              "      <td>25.0</td>\n",
              "      <td>1256.0</td>\n",
              "    </tr>\n",
              "    <tr>\n",
              "      <th>MAR</th>\n",
              "      <td>6607535.0</td>\n",
              "      <td>2.929162</td>\n",
              "      <td>1.849165</td>\n",
              "      <td>1.0</td>\n",
              "      <td>1.0</td>\n",
              "      <td>3.0</td>\n",
              "      <td>5.0</td>\n",
              "      <td>5.0</td>\n",
              "    </tr>\n",
              "    <tr>\n",
              "      <th>SCH</th>\n",
              "      <td>6607535.0</td>\n",
              "      <td>1.255811</td>\n",
              "      <td>0.559454</td>\n",
              "      <td>0.0</td>\n",
              "      <td>1.0</td>\n",
              "      <td>1.0</td>\n",
              "      <td>1.0</td>\n",
              "      <td>3.0</td>\n",
              "    </tr>\n",
              "    <tr>\n",
              "      <th>SEX</th>\n",
              "      <td>6607535.0</td>\n",
              "      <td>1.509740</td>\n",
              "      <td>0.499905</td>\n",
              "      <td>1.0</td>\n",
              "      <td>1.0</td>\n",
              "      <td>2.0</td>\n",
              "      <td>2.0</td>\n",
              "      <td>2.0</td>\n",
              "    </tr>\n",
              "    <tr>\n",
              "      <th>ESR</th>\n",
              "      <td>6607535.0</td>\n",
              "      <td>2.610820</td>\n",
              "      <td>2.499322</td>\n",
              "      <td>0.0</td>\n",
              "      <td>1.0</td>\n",
              "      <td>1.0</td>\n",
              "      <td>6.0</td>\n",
              "      <td>6.0</td>\n",
              "    </tr>\n",
              "    <tr>\n",
              "      <th>CIT</th>\n",
              "      <td>6607535.0</td>\n",
              "      <td>1.523912</td>\n",
              "      <td>1.232449</td>\n",
              "      <td>1.0</td>\n",
              "      <td>1.0</td>\n",
              "      <td>1.0</td>\n",
              "      <td>1.0</td>\n",
              "      <td>5.0</td>\n",
              "    </tr>\n",
              "    <tr>\n",
              "      <th>COW</th>\n",
              "      <td>6607535.0</td>\n",
              "      <td>1.296329</td>\n",
              "      <td>1.851761</td>\n",
              "      <td>0.0</td>\n",
              "      <td>0.0</td>\n",
              "      <td>1.0</td>\n",
              "      <td>1.0</td>\n",
              "      <td>9.0</td>\n",
              "    </tr>\n",
              "    <tr>\n",
              "      <th>SCHL</th>\n",
              "      <td>6607535.0</td>\n",
              "      <td>15.862573</td>\n",
              "      <td>6.028124</td>\n",
              "      <td>0.0</td>\n",
              "      <td>14.0</td>\n",
              "      <td>18.0</td>\n",
              "      <td>21.0</td>\n",
              "      <td>24.0</td>\n",
              "    </tr>\n",
              "    <tr>\n",
              "      <th>AGEP</th>\n",
              "      <td>6607535.0</td>\n",
              "      <td>42.199993</td>\n",
              "      <td>23.461670</td>\n",
              "      <td>1.0</td>\n",
              "      <td>22.0</td>\n",
              "      <td>43.0</td>\n",
              "      <td>61.0</td>\n",
              "      <td>96.0</td>\n",
              "    </tr>\n",
              "    <tr>\n",
              "      <th>ST</th>\n",
              "      <td>6607535.0</td>\n",
              "      <td>11.613724</td>\n",
              "      <td>6.303122</td>\n",
              "      <td>1.0</td>\n",
              "      <td>6.0</td>\n",
              "      <td>12.0</td>\n",
              "      <td>17.0</td>\n",
              "      <td>24.0</td>\n",
              "    </tr>\n",
              "  </tbody>\n",
              "</table>\n",
              "</div>"
            ],
            "text/plain": [
              "           count       mean        std  min   25%   50%   75%     max\n",
              "0                                                                    \n",
              "PWGTP  6607535.0  21.403737  21.402890  1.0  10.0  16.0  25.0  1256.0\n",
              "MAR    6607535.0   2.929162   1.849165  1.0   1.0   3.0   5.0     5.0\n",
              "SCH    6607535.0   1.255811   0.559454  0.0   1.0   1.0   1.0     3.0\n",
              "SEX    6607535.0   1.509740   0.499905  1.0   1.0   2.0   2.0     2.0\n",
              "ESR    6607535.0   2.610820   2.499322  0.0   1.0   1.0   6.0     6.0\n",
              "CIT    6607535.0   1.523912   1.232449  1.0   1.0   1.0   1.0     5.0\n",
              "COW    6607535.0   1.296329   1.851761  0.0   0.0   1.0   1.0     9.0\n",
              "SCHL   6607535.0  15.862573   6.028124  0.0  14.0  18.0  21.0    24.0\n",
              "AGEP   6607535.0  42.199993  23.461670  1.0  22.0  43.0  61.0    96.0\n",
              "ST     6607535.0  11.613724   6.303122  1.0   6.0  12.0  17.0    24.0"
            ]
          },
          "execution_count": 15,
          "metadata": {},
          "output_type": "execute_result"
        }
      ],
      "source": [
        "df.describe().T"
      ]
    },
    {
      "cell_type": "code",
      "execution_count": null,
      "metadata": {
        "id": "VSPqSDBvVKnp",
        "outputId": "f139ad85-9213-4bdd-e214-26a2c4fb1a12"
      },
      "outputs": [
        {
          "name": "stdout",
          "output_type": "stream",
          "text": [
            "<class 'pandas.core.frame.DataFrame'>\n",
            "RangeIndex: 6607535 entries, 1 to 6607535\n",
            "Data columns (total 10 columns):\n",
            " #   Column  Dtype\n",
            "---  ------  -----\n",
            " 0   PWGTP   int32\n",
            " 1   MAR     int32\n",
            " 2   SCH     int32\n",
            " 3   SEX     int32\n",
            " 4   ESR     int32\n",
            " 5   CIT     int32\n",
            " 6   COW     int32\n",
            " 7   SCHL    int32\n",
            " 8   AGEP    int32\n",
            " 9   ST      int32\n",
            "dtypes: int32(10)\n",
            "memory usage: 252.1 MB\n"
          ]
        }
      ],
      "source": [
        "df.info()"
      ]
    },
    {
      "cell_type": "code",
      "execution_count": null,
      "metadata": {
        "id": "KJZbh9y8VKnp"
      },
      "outputs": [],
      "source": [
        ""
      ]
    }
  ],
  "metadata": {
    "interpreter": {
      "hash": "ec913dcbef39c008784dc6fe095f00003c17434557640291833f1bcf12636147"
    },
    "kernelspec": {
      "display_name": "Python 3.8.12 ('dsi-222')",
      "language": "python",
      "name": "python3"
    },
    "language_info": {
      "codemirror_mode": {
        "name": "ipython",
        "version": 3
      },
      "file_extension": ".py",
      "mimetype": "text/x-python",
      "name": "python",
      "nbconvert_exporter": "python",
      "pygments_lexer": "ipython3",
      "version": "3.8.12"
    },
    "orig_nbformat": 4,
    "colab": {
      "name": "01-data-collection-capstone.ipynb",
      "provenance": [],
      "collapsed_sections": [],
      "include_colab_link": true
    }
  },
  "nbformat": 4,
  "nbformat_minor": 0
}